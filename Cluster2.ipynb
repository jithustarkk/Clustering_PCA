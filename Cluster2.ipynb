{
 "cells": [
  {
   "cell_type": "code",
   "execution_count": 1,
   "metadata": {},
   "outputs": [],
   "source": [
    "# importing the packages\n",
    "import pandas as pd\n",
    "import numpy as np\n",
    "import matplotlib.pyplot as plt\n",
    "import seaborn as sns"
   ]
  },
  {
   "cell_type": "code",
   "execution_count": 2,
   "metadata": {},
   "outputs": [],
   "source": [
    "# Supress Warnings\n",
    "\n",
    "import warnings\n",
    "warnings.filterwarnings('ignore')"
   ]
  },
  {
   "cell_type": "code",
   "execution_count": 3,
   "metadata": {},
   "outputs": [],
   "source": [
    "df = pd.read_csv(\"Country-data.csv\")"
   ]
  },
  {
   "cell_type": "code",
   "execution_count": 4,
   "metadata": {},
   "outputs": [
    {
     "data": {
      "text/html": [
       "<div>\n",
       "<style scoped>\n",
       "    .dataframe tbody tr th:only-of-type {\n",
       "        vertical-align: middle;\n",
       "    }\n",
       "\n",
       "    .dataframe tbody tr th {\n",
       "        vertical-align: top;\n",
       "    }\n",
       "\n",
       "    .dataframe thead th {\n",
       "        text-align: right;\n",
       "    }\n",
       "</style>\n",
       "<table border=\"1\" class=\"dataframe\">\n",
       "  <thead>\n",
       "    <tr style=\"text-align: right;\">\n",
       "      <th></th>\n",
       "      <th>country</th>\n",
       "      <th>child_mort</th>\n",
       "      <th>exports</th>\n",
       "      <th>health</th>\n",
       "      <th>imports</th>\n",
       "      <th>income</th>\n",
       "      <th>inflation</th>\n",
       "      <th>life_expec</th>\n",
       "      <th>total_fer</th>\n",
       "      <th>gdpp</th>\n",
       "    </tr>\n",
       "  </thead>\n",
       "  <tbody>\n",
       "    <tr>\n",
       "      <th>0</th>\n",
       "      <td>Afghanistan</td>\n",
       "      <td>90.2</td>\n",
       "      <td>10.0</td>\n",
       "      <td>7.58</td>\n",
       "      <td>44.9</td>\n",
       "      <td>1610</td>\n",
       "      <td>9.44</td>\n",
       "      <td>56.2</td>\n",
       "      <td>5.82</td>\n",
       "      <td>553</td>\n",
       "    </tr>\n",
       "    <tr>\n",
       "      <th>1</th>\n",
       "      <td>Albania</td>\n",
       "      <td>16.6</td>\n",
       "      <td>28.0</td>\n",
       "      <td>6.55</td>\n",
       "      <td>48.6</td>\n",
       "      <td>9930</td>\n",
       "      <td>4.49</td>\n",
       "      <td>76.3</td>\n",
       "      <td>1.65</td>\n",
       "      <td>4090</td>\n",
       "    </tr>\n",
       "    <tr>\n",
       "      <th>2</th>\n",
       "      <td>Algeria</td>\n",
       "      <td>27.3</td>\n",
       "      <td>38.4</td>\n",
       "      <td>4.17</td>\n",
       "      <td>31.4</td>\n",
       "      <td>12900</td>\n",
       "      <td>16.10</td>\n",
       "      <td>76.5</td>\n",
       "      <td>2.89</td>\n",
       "      <td>4460</td>\n",
       "    </tr>\n",
       "    <tr>\n",
       "      <th>3</th>\n",
       "      <td>Angola</td>\n",
       "      <td>119.0</td>\n",
       "      <td>62.3</td>\n",
       "      <td>2.85</td>\n",
       "      <td>42.9</td>\n",
       "      <td>5900</td>\n",
       "      <td>22.40</td>\n",
       "      <td>60.1</td>\n",
       "      <td>6.16</td>\n",
       "      <td>3530</td>\n",
       "    </tr>\n",
       "    <tr>\n",
       "      <th>4</th>\n",
       "      <td>Antigua and Barbuda</td>\n",
       "      <td>10.3</td>\n",
       "      <td>45.5</td>\n",
       "      <td>6.03</td>\n",
       "      <td>58.9</td>\n",
       "      <td>19100</td>\n",
       "      <td>1.44</td>\n",
       "      <td>76.8</td>\n",
       "      <td>2.13</td>\n",
       "      <td>12200</td>\n",
       "    </tr>\n",
       "  </tbody>\n",
       "</table>\n",
       "</div>"
      ],
      "text/plain": [
       "               country  child_mort  exports  health  imports  income  \\\n",
       "0          Afghanistan        90.2     10.0    7.58     44.9    1610   \n",
       "1              Albania        16.6     28.0    6.55     48.6    9930   \n",
       "2              Algeria        27.3     38.4    4.17     31.4   12900   \n",
       "3               Angola       119.0     62.3    2.85     42.9    5900   \n",
       "4  Antigua and Barbuda        10.3     45.5    6.03     58.9   19100   \n",
       "\n",
       "   inflation  life_expec  total_fer   gdpp  \n",
       "0       9.44        56.2       5.82    553  \n",
       "1       4.49        76.3       1.65   4090  \n",
       "2      16.10        76.5       2.89   4460  \n",
       "3      22.40        60.1       6.16   3530  \n",
       "4       1.44        76.8       2.13  12200  "
      ]
     },
     "execution_count": 4,
     "metadata": {},
     "output_type": "execute_result"
    }
   ],
   "source": [
    "df.head()"
   ]
  },
  {
   "cell_type": "code",
   "execution_count": 5,
   "metadata": {},
   "outputs": [
    {
     "name": "stdout",
     "output_type": "stream",
     "text": [
      "NO. of null values::\n",
      " country       0\n",
      "child_mort    0\n",
      "exports       0\n",
      "health        0\n",
      "imports       0\n",
      "income        0\n",
      "inflation     0\n",
      "life_expec    0\n",
      "total_fer     0\n",
      "gdpp          0\n",
      "dtype: int64\n",
      "Shape of data::\n",
      " (167, 10)\n",
      "datatypes of variables::\n",
      " country        object\n",
      "child_mort    float64\n",
      "exports       float64\n",
      "health        float64\n",
      "imports       float64\n",
      "income          int64\n",
      "inflation     float64\n",
      "life_expec    float64\n",
      "total_fer     float64\n",
      "gdpp            int64\n",
      "dtype: object\n"
     ]
    }
   ],
   "source": [
    "# trying to remove null values & finding datatypes\n",
    "print(\"NO. of null values::\\n\",df.isnull().sum())\n",
    "print(\"Shape of data::\\n\",df.shape)\n",
    "print(\"datatypes of variables::\\n\",df.dtypes)"
   ]
  },
  {
   "cell_type": "code",
   "execution_count": 6,
   "metadata": {},
   "outputs": [
    {
     "data": {
      "text/plain": [
       "array(['Afghanistan', 'Albania', 'Algeria', 'Angola',\n",
       "       'Antigua and Barbuda', 'Argentina', 'Armenia', 'Australia',\n",
       "       'Austria', 'Azerbaijan', 'Bahamas', 'Bahrain', 'Bangladesh',\n",
       "       'Barbados', 'Belarus', 'Belgium', 'Belize', 'Benin', 'Bhutan',\n",
       "       'Bolivia', 'Bosnia and Herzegovina', 'Botswana', 'Brazil',\n",
       "       'Brunei', 'Bulgaria', 'Burkina Faso', 'Burundi', 'Cambodia',\n",
       "       'Cameroon', 'Canada', 'Cape Verde', 'Central African Republic',\n",
       "       'Chad', 'Chile', 'China', 'Colombia', 'Comoros',\n",
       "       'Congo, Dem. Rep.', 'Congo, Rep.', 'Costa Rica', \"Cote d'Ivoire\",\n",
       "       'Croatia', 'Cyprus', 'Czech Republic', 'Denmark',\n",
       "       'Dominican Republic', 'Ecuador', 'Egypt', 'El Salvador',\n",
       "       'Equatorial Guinea', 'Eritrea', 'Estonia', 'Fiji', 'Finland',\n",
       "       'France', 'Gabon', 'Gambia', 'Georgia', 'Germany', 'Ghana',\n",
       "       'Greece', 'Grenada', 'Guatemala', 'Guinea', 'Guinea-Bissau',\n",
       "       'Guyana', 'Haiti', 'Hungary', 'Iceland', 'India', 'Indonesia',\n",
       "       'Iran', 'Iraq', 'Ireland', 'Israel', 'Italy', 'Jamaica', 'Japan',\n",
       "       'Jordan', 'Kazakhstan', 'Kenya', 'Kiribati', 'Kuwait',\n",
       "       'Kyrgyz Republic', 'Lao', 'Latvia', 'Lebanon', 'Lesotho',\n",
       "       'Liberia', 'Libya', 'Lithuania', 'Luxembourg', 'Macedonia, FYR',\n",
       "       'Madagascar', 'Malawi', 'Malaysia', 'Maldives', 'Mali', 'Malta',\n",
       "       'Mauritania', 'Mauritius', 'Micronesia, Fed. Sts.', 'Moldova',\n",
       "       'Mongolia', 'Montenegro', 'Morocco', 'Mozambique', 'Myanmar',\n",
       "       'Namibia', 'Nepal', 'Netherlands', 'New Zealand', 'Niger',\n",
       "       'Nigeria', 'Norway', 'Oman', 'Pakistan', 'Panama', 'Paraguay',\n",
       "       'Peru', 'Philippines', 'Poland', 'Portugal', 'Qatar', 'Romania',\n",
       "       'Russia', 'Rwanda', 'Samoa', 'Saudi Arabia', 'Senegal', 'Serbia',\n",
       "       'Seychelles', 'Sierra Leone', 'Singapore', 'Slovak Republic',\n",
       "       'Slovenia', 'Solomon Islands', 'South Africa', 'South Korea',\n",
       "       'Spain', 'Sri Lanka', 'St. Vincent and the Grenadines', 'Sudan',\n",
       "       'Suriname', 'Sweden', 'Switzerland', 'Tajikistan', 'Tanzania',\n",
       "       'Thailand', 'Timor-Leste', 'Togo', 'Tonga', 'Tunisia', 'Turkey',\n",
       "       'Turkmenistan', 'Uganda', 'Ukraine', 'United Arab Emirates',\n",
       "       'United Kingdom', 'United States', 'Uruguay', 'Uzbekistan',\n",
       "       'Vanuatu', 'Venezuela', 'Vietnam', 'Yemen', 'Zambia'], dtype=object)"
      ]
     },
     "execution_count": 6,
     "metadata": {},
     "output_type": "execute_result"
    }
   ],
   "source": [
    "df.country.unique()"
   ]
  },
  {
   "cell_type": "code",
   "execution_count": 7,
   "metadata": {},
   "outputs": [],
   "source": [
    "# AS the child death cant be in float\n",
    "df.child_mort=df.child_mort.astype(int)"
   ]
  },
  {
   "cell_type": "code",
   "execution_count": 8,
   "metadata": {},
   "outputs": [
    {
     "data": {
      "text/plain": [
       "country        object\n",
       "child_mort      int32\n",
       "exports       float64\n",
       "health        float64\n",
       "imports       float64\n",
       "income          int64\n",
       "inflation     float64\n",
       "life_expec    float64\n",
       "total_fer     float64\n",
       "gdpp            int64\n",
       "dtype: object"
      ]
     },
     "execution_count": 8,
     "metadata": {},
     "output_type": "execute_result"
    }
   ],
   "source": [
    "df.dtypes"
   ]
  },
  {
   "cell_type": "code",
   "execution_count": 9,
   "metadata": {},
   "outputs": [
    {
     "data": {
      "text/html": [
       "<div>\n",
       "<style scoped>\n",
       "    .dataframe tbody tr th:only-of-type {\n",
       "        vertical-align: middle;\n",
       "    }\n",
       "\n",
       "    .dataframe tbody tr th {\n",
       "        vertical-align: top;\n",
       "    }\n",
       "\n",
       "    .dataframe thead th {\n",
       "        text-align: right;\n",
       "    }\n",
       "</style>\n",
       "<table border=\"1\" class=\"dataframe\">\n",
       "  <thead>\n",
       "    <tr style=\"text-align: right;\">\n",
       "      <th></th>\n",
       "      <th>child_mort</th>\n",
       "      <th>exports</th>\n",
       "      <th>health</th>\n",
       "      <th>imports</th>\n",
       "      <th>income</th>\n",
       "      <th>inflation</th>\n",
       "      <th>life_expec</th>\n",
       "      <th>total_fer</th>\n",
       "      <th>gdpp</th>\n",
       "    </tr>\n",
       "  </thead>\n",
       "  <tbody>\n",
       "    <tr>\n",
       "      <th>count</th>\n",
       "      <td>167.000000</td>\n",
       "      <td>167.000000</td>\n",
       "      <td>167.000000</td>\n",
       "      <td>167.000000</td>\n",
       "      <td>167.000000</td>\n",
       "      <td>167.000000</td>\n",
       "      <td>167.000000</td>\n",
       "      <td>167.000000</td>\n",
       "      <td>167.000000</td>\n",
       "    </tr>\n",
       "    <tr>\n",
       "      <th>mean</th>\n",
       "      <td>37.886228</td>\n",
       "      <td>41.108976</td>\n",
       "      <td>6.815689</td>\n",
       "      <td>46.890215</td>\n",
       "      <td>17144.688623</td>\n",
       "      <td>7.781832</td>\n",
       "      <td>70.555689</td>\n",
       "      <td>2.947964</td>\n",
       "      <td>12964.155689</td>\n",
       "    </tr>\n",
       "    <tr>\n",
       "      <th>std</th>\n",
       "      <td>40.426405</td>\n",
       "      <td>27.412010</td>\n",
       "      <td>2.746837</td>\n",
       "      <td>24.209589</td>\n",
       "      <td>19278.067698</td>\n",
       "      <td>10.570704</td>\n",
       "      <td>8.893172</td>\n",
       "      <td>1.513848</td>\n",
       "      <td>18328.704809</td>\n",
       "    </tr>\n",
       "    <tr>\n",
       "      <th>min</th>\n",
       "      <td>2.000000</td>\n",
       "      <td>0.109000</td>\n",
       "      <td>1.810000</td>\n",
       "      <td>0.065900</td>\n",
       "      <td>609.000000</td>\n",
       "      <td>-4.210000</td>\n",
       "      <td>32.100000</td>\n",
       "      <td>1.150000</td>\n",
       "      <td>231.000000</td>\n",
       "    </tr>\n",
       "    <tr>\n",
       "      <th>15%</th>\n",
       "      <td>4.000000</td>\n",
       "      <td>19.190000</td>\n",
       "      <td>4.163000</td>\n",
       "      <td>26.780000</td>\n",
       "      <td>1924.000000</td>\n",
       "      <td>0.989500</td>\n",
       "      <td>60.370000</td>\n",
       "      <td>1.550000</td>\n",
       "      <td>767.900000</td>\n",
       "    </tr>\n",
       "    <tr>\n",
       "      <th>25%</th>\n",
       "      <td>7.500000</td>\n",
       "      <td>23.800000</td>\n",
       "      <td>4.920000</td>\n",
       "      <td>30.200000</td>\n",
       "      <td>3355.000000</td>\n",
       "      <td>1.810000</td>\n",
       "      <td>65.300000</td>\n",
       "      <td>1.795000</td>\n",
       "      <td>1330.000000</td>\n",
       "    </tr>\n",
       "    <tr>\n",
       "      <th>50%</th>\n",
       "      <td>19.000000</td>\n",
       "      <td>35.000000</td>\n",
       "      <td>6.320000</td>\n",
       "      <td>43.300000</td>\n",
       "      <td>9960.000000</td>\n",
       "      <td>5.390000</td>\n",
       "      <td>73.100000</td>\n",
       "      <td>2.410000</td>\n",
       "      <td>4660.000000</td>\n",
       "    </tr>\n",
       "    <tr>\n",
       "      <th>75%</th>\n",
       "      <td>62.000000</td>\n",
       "      <td>51.350000</td>\n",
       "      <td>8.600000</td>\n",
       "      <td>58.750000</td>\n",
       "      <td>22800.000000</td>\n",
       "      <td>10.750000</td>\n",
       "      <td>76.800000</td>\n",
       "      <td>3.880000</td>\n",
       "      <td>14050.000000</td>\n",
       "    </tr>\n",
       "    <tr>\n",
       "      <th>90%</th>\n",
       "      <td>99.800000</td>\n",
       "      <td>70.800000</td>\n",
       "      <td>10.940000</td>\n",
       "      <td>75.420000</td>\n",
       "      <td>41220.000000</td>\n",
       "      <td>16.640000</td>\n",
       "      <td>80.400000</td>\n",
       "      <td>5.322000</td>\n",
       "      <td>41840.000000</td>\n",
       "    </tr>\n",
       "    <tr>\n",
       "      <th>max</th>\n",
       "      <td>208.000000</td>\n",
       "      <td>200.000000</td>\n",
       "      <td>17.900000</td>\n",
       "      <td>174.000000</td>\n",
       "      <td>125000.000000</td>\n",
       "      <td>104.000000</td>\n",
       "      <td>82.800000</td>\n",
       "      <td>7.490000</td>\n",
       "      <td>105000.000000</td>\n",
       "    </tr>\n",
       "  </tbody>\n",
       "</table>\n",
       "</div>"
      ],
      "text/plain": [
       "       child_mort     exports      health     imports         income  \\\n",
       "count  167.000000  167.000000  167.000000  167.000000     167.000000   \n",
       "mean    37.886228   41.108976    6.815689   46.890215   17144.688623   \n",
       "std     40.426405   27.412010    2.746837   24.209589   19278.067698   \n",
       "min      2.000000    0.109000    1.810000    0.065900     609.000000   \n",
       "15%      4.000000   19.190000    4.163000   26.780000    1924.000000   \n",
       "25%      7.500000   23.800000    4.920000   30.200000    3355.000000   \n",
       "50%     19.000000   35.000000    6.320000   43.300000    9960.000000   \n",
       "75%     62.000000   51.350000    8.600000   58.750000   22800.000000   \n",
       "90%     99.800000   70.800000   10.940000   75.420000   41220.000000   \n",
       "max    208.000000  200.000000   17.900000  174.000000  125000.000000   \n",
       "\n",
       "        inflation  life_expec   total_fer           gdpp  \n",
       "count  167.000000  167.000000  167.000000     167.000000  \n",
       "mean     7.781832   70.555689    2.947964   12964.155689  \n",
       "std     10.570704    8.893172    1.513848   18328.704809  \n",
       "min     -4.210000   32.100000    1.150000     231.000000  \n",
       "15%      0.989500   60.370000    1.550000     767.900000  \n",
       "25%      1.810000   65.300000    1.795000    1330.000000  \n",
       "50%      5.390000   73.100000    2.410000    4660.000000  \n",
       "75%     10.750000   76.800000    3.880000   14050.000000  \n",
       "90%     16.640000   80.400000    5.322000   41840.000000  \n",
       "max    104.000000   82.800000    7.490000  105000.000000  "
      ]
     },
     "execution_count": 9,
     "metadata": {},
     "output_type": "execute_result"
    }
   ],
   "source": [
    "# removing Non_PCA variable\n",
    "df.describe(percentiles=[0.15,0.25,0.50,0.75,0.90])"
   ]
  },
  {
   "cell_type": "code",
   "execution_count": 10,
   "metadata": {},
   "outputs": [
    {
     "data": {
      "text/html": [
       "<div>\n",
       "<style scoped>\n",
       "    .dataframe tbody tr th:only-of-type {\n",
       "        vertical-align: middle;\n",
       "    }\n",
       "\n",
       "    .dataframe tbody tr th {\n",
       "        vertical-align: top;\n",
       "    }\n",
       "\n",
       "    .dataframe thead th {\n",
       "        text-align: right;\n",
       "    }\n",
       "</style>\n",
       "<table border=\"1\" class=\"dataframe\">\n",
       "  <thead>\n",
       "    <tr style=\"text-align: right;\">\n",
       "      <th></th>\n",
       "      <th>child_mort</th>\n",
       "      <th>exports</th>\n",
       "      <th>health</th>\n",
       "      <th>imports</th>\n",
       "      <th>income</th>\n",
       "      <th>inflation</th>\n",
       "      <th>life_expec</th>\n",
       "      <th>total_fer</th>\n",
       "      <th>gdpp</th>\n",
       "    </tr>\n",
       "  </thead>\n",
       "  <tbody>\n",
       "    <tr>\n",
       "      <th>0</th>\n",
       "      <td>90</td>\n",
       "      <td>10.0</td>\n",
       "      <td>7.58</td>\n",
       "      <td>44.9</td>\n",
       "      <td>1610</td>\n",
       "      <td>9.44</td>\n",
       "      <td>56.2</td>\n",
       "      <td>5.82</td>\n",
       "      <td>553</td>\n",
       "    </tr>\n",
       "    <tr>\n",
       "      <th>1</th>\n",
       "      <td>16</td>\n",
       "      <td>28.0</td>\n",
       "      <td>6.55</td>\n",
       "      <td>48.6</td>\n",
       "      <td>9930</td>\n",
       "      <td>4.49</td>\n",
       "      <td>76.3</td>\n",
       "      <td>1.65</td>\n",
       "      <td>4090</td>\n",
       "    </tr>\n",
       "    <tr>\n",
       "      <th>2</th>\n",
       "      <td>27</td>\n",
       "      <td>38.4</td>\n",
       "      <td>4.17</td>\n",
       "      <td>31.4</td>\n",
       "      <td>12900</td>\n",
       "      <td>16.10</td>\n",
       "      <td>76.5</td>\n",
       "      <td>2.89</td>\n",
       "      <td>4460</td>\n",
       "    </tr>\n",
       "    <tr>\n",
       "      <th>3</th>\n",
       "      <td>119</td>\n",
       "      <td>62.3</td>\n",
       "      <td>2.85</td>\n",
       "      <td>42.9</td>\n",
       "      <td>5900</td>\n",
       "      <td>22.40</td>\n",
       "      <td>60.1</td>\n",
       "      <td>6.16</td>\n",
       "      <td>3530</td>\n",
       "    </tr>\n",
       "    <tr>\n",
       "      <th>4</th>\n",
       "      <td>10</td>\n",
       "      <td>45.5</td>\n",
       "      <td>6.03</td>\n",
       "      <td>58.9</td>\n",
       "      <td>19100</td>\n",
       "      <td>1.44</td>\n",
       "      <td>76.8</td>\n",
       "      <td>2.13</td>\n",
       "      <td>12200</td>\n",
       "    </tr>\n",
       "  </tbody>\n",
       "</table>\n",
       "</div>"
      ],
      "text/plain": [
       "   child_mort  exports  health  imports  income  inflation  life_expec  \\\n",
       "0          90     10.0    7.58     44.9    1610       9.44        56.2   \n",
       "1          16     28.0    6.55     48.6    9930       4.49        76.3   \n",
       "2          27     38.4    4.17     31.4   12900      16.10        76.5   \n",
       "3         119     62.3    2.85     42.9    5900      22.40        60.1   \n",
       "4          10     45.5    6.03     58.9   19100       1.44        76.8   \n",
       "\n",
       "   total_fer   gdpp  \n",
       "0       5.82    553  \n",
       "1       1.65   4090  \n",
       "2       2.89   4460  \n",
       "3       6.16   3530  \n",
       "4       2.13  12200  "
      ]
     },
     "execution_count": 10,
     "metadata": {},
     "output_type": "execute_result"
    }
   ],
   "source": [
    "df_new = df.iloc[:,1:]\n",
    "df_new.head()"
   ]
  },
  {
   "cell_type": "code",
   "execution_count": 11,
   "metadata": {},
   "outputs": [],
   "source": [
    "# Original Data with Outliers\n",
    "#Q1 = df_new.quantile(0.25)\n",
    "#Q3 = df_new.quantile(0.75)\n",
    "#IQR = Q3-Q1"
   ]
  },
  {
   "cell_type": "code",
   "execution_count": 12,
   "metadata": {},
   "outputs": [],
   "source": [
    "#df_new1 = df_new[~((df_new < (Q1 - 1.5 * IQR)) |(df_new > (Q3 + 1.5 * IQR))).any(axis=1)]\n",
    "#print(\"shape of new data without country column:\\n\",df_new1.shape)"
   ]
  },
  {
   "cell_type": "code",
   "execution_count": null,
   "metadata": {},
   "outputs": [],
   "source": []
  },
  {
   "cell_type": "code",
   "execution_count": 13,
   "metadata": {},
   "outputs": [
    {
     "data": {
      "text/html": [
       "<div>\n",
       "<style scoped>\n",
       "    .dataframe tbody tr th:only-of-type {\n",
       "        vertical-align: middle;\n",
       "    }\n",
       "\n",
       "    .dataframe tbody tr th {\n",
       "        vertical-align: top;\n",
       "    }\n",
       "\n",
       "    .dataframe thead th {\n",
       "        text-align: right;\n",
       "    }\n",
       "</style>\n",
       "<table border=\"1\" class=\"dataframe\">\n",
       "  <thead>\n",
       "    <tr style=\"text-align: right;\">\n",
       "      <th></th>\n",
       "      <th>child_mort</th>\n",
       "      <th>exports</th>\n",
       "      <th>health</th>\n",
       "      <th>imports</th>\n",
       "      <th>income</th>\n",
       "      <th>inflation</th>\n",
       "      <th>life_expec</th>\n",
       "      <th>total_fer</th>\n",
       "      <th>gdpp</th>\n",
       "    </tr>\n",
       "  </thead>\n",
       "  <tbody>\n",
       "    <tr>\n",
       "      <th>0</th>\n",
       "      <td>0.427184</td>\n",
       "      <td>0.049482</td>\n",
       "      <td>0.358608</td>\n",
       "      <td>0.257765</td>\n",
       "      <td>0.008047</td>\n",
       "      <td>0.126144</td>\n",
       "      <td>0.475345</td>\n",
       "      <td>0.736593</td>\n",
       "      <td>0.003073</td>\n",
       "    </tr>\n",
       "    <tr>\n",
       "      <th>1</th>\n",
       "      <td>0.067961</td>\n",
       "      <td>0.139531</td>\n",
       "      <td>0.294593</td>\n",
       "      <td>0.279037</td>\n",
       "      <td>0.074933</td>\n",
       "      <td>0.080399</td>\n",
       "      <td>0.871795</td>\n",
       "      <td>0.078864</td>\n",
       "      <td>0.036833</td>\n",
       "    </tr>\n",
       "    <tr>\n",
       "      <th>2</th>\n",
       "      <td>0.121359</td>\n",
       "      <td>0.191559</td>\n",
       "      <td>0.146675</td>\n",
       "      <td>0.180149</td>\n",
       "      <td>0.098809</td>\n",
       "      <td>0.187691</td>\n",
       "      <td>0.875740</td>\n",
       "      <td>0.274448</td>\n",
       "      <td>0.040365</td>\n",
       "    </tr>\n",
       "    <tr>\n",
       "      <th>3</th>\n",
       "      <td>0.567961</td>\n",
       "      <td>0.311125</td>\n",
       "      <td>0.064636</td>\n",
       "      <td>0.246266</td>\n",
       "      <td>0.042535</td>\n",
       "      <td>0.245911</td>\n",
       "      <td>0.552268</td>\n",
       "      <td>0.790221</td>\n",
       "      <td>0.031488</td>\n",
       "    </tr>\n",
       "    <tr>\n",
       "      <th>4</th>\n",
       "      <td>0.038835</td>\n",
       "      <td>0.227079</td>\n",
       "      <td>0.262275</td>\n",
       "      <td>0.338255</td>\n",
       "      <td>0.148652</td>\n",
       "      <td>0.052213</td>\n",
       "      <td>0.881657</td>\n",
       "      <td>0.154574</td>\n",
       "      <td>0.114242</td>\n",
       "    </tr>\n",
       "  </tbody>\n",
       "</table>\n",
       "</div>"
      ],
      "text/plain": [
       "   child_mort   exports    health   imports    income  inflation  life_expec  \\\n",
       "0    0.427184  0.049482  0.358608  0.257765  0.008047   0.126144    0.475345   \n",
       "1    0.067961  0.139531  0.294593  0.279037  0.074933   0.080399    0.871795   \n",
       "2    0.121359  0.191559  0.146675  0.180149  0.098809   0.187691    0.875740   \n",
       "3    0.567961  0.311125  0.064636  0.246266  0.042535   0.245911    0.552268   \n",
       "4    0.038835  0.227079  0.262275  0.338255  0.148652   0.052213    0.881657   \n",
       "\n",
       "   total_fer      gdpp  \n",
       "0   0.736593  0.003073  \n",
       "1   0.078864  0.036833  \n",
       "2   0.274448  0.040365  \n",
       "3   0.790221  0.031488  \n",
       "4   0.154574  0.114242  "
      ]
     },
     "execution_count": 13,
     "metadata": {},
     "output_type": "execute_result"
    }
   ],
   "source": [
    "from sklearn.preprocessing import MinMaxScaler\n",
    "scaler = MinMaxScaler()\n",
    "num_vars = [\"child_mort\",\"exports\",\"health\",\"imports\",\"income\",\"inflation\",\"life_expec\",\"total_fer\",\"gdpp\"]\n",
    "df_new[num_vars] = scaler.fit_transform(df_new[num_vars])\n",
    "df_new[num_vars].head()"
   ]
  },
  {
   "cell_type": "code",
   "execution_count": 14,
   "metadata": {},
   "outputs": [
    {
     "data": {
      "text/plain": [
       "PCA(copy=True, iterated_power='auto', n_components=None, random_state=0,\n",
       "  svd_solver='randomized', tol=0.0, whiten=False)"
      ]
     },
     "execution_count": 14,
     "metadata": {},
     "output_type": "execute_result"
    }
   ],
   "source": [
    "# import PCA\n",
    "from sklearn.decomposition import PCA\n",
    "pca = PCA(svd_solver=\"randomized\",random_state=0)\n",
    "pca.fit(df_new[num_vars])"
   ]
  },
  {
   "cell_type": "code",
   "execution_count": 15,
   "metadata": {},
   "outputs": [
    {
     "data": {
      "text/plain": [
       "array([0.54990463, 0.13385185, 0.12304806, 0.09750986, 0.03779387,\n",
       "       0.03014283, 0.01193134, 0.0088784 , 0.00693917])"
      ]
     },
     "execution_count": 15,
     "metadata": {},
     "output_type": "execute_result"
    }
   ],
   "source": [
    "pca.explained_variance_ratio_"
   ]
  },
  {
   "cell_type": "code",
   "execution_count": 16,
   "metadata": {},
   "outputs": [
    {
     "data": {
      "image/png": "[encoded data removed]",
      "text/plain": [
       "<Figure size 864x576 with 1 Axes>"
      ]
     },
     "metadata": {
      "needs_background": "light"
     },
     "output_type": "display_data"
    }
   ],
   "source": [
    "#Making the screeplot - plotting the cumulative variance against the number of components\n",
    "%matplotlib inline\n",
    "fig = plt.figure(figsize = (12,8))\n",
    "plt.plot(np.cumsum(pca.explained_variance_ratio_))\n",
    "plt.xlabel('number of components')\n",
    "plt.ylabel('cumulative explained variance')\n",
    "plt.show()"
   ]
  },
  {
   "cell_type": "code",
   "execution_count": 17,
   "metadata": {},
   "outputs": [],
   "source": [
    "from sklearn.decomposition import IncrementalPCA\n",
    "pca_final = IncrementalPCA(n_components=5)\n",
    "train_pca = pca_final.fit_transform(df_new[num_vars])"
   ]
  },
  {
   "cell_type": "code",
   "execution_count": 18,
   "metadata": {},
   "outputs": [
    {
     "data": {
      "text/plain": [
       "(167, 5)"
      ]
     },
     "execution_count": 18,
     "metadata": {},
     "output_type": "execute_result"
    }
   ],
   "source": [
    "train_pca.shape"
   ]
  },
  {
   "cell_type": "code",
   "execution_count": 19,
   "metadata": {},
   "outputs": [
    {
     "data": {
      "text/html": [
       "<div>\n",
       "<style scoped>\n",
       "    .dataframe tbody tr th:only-of-type {\n",
       "        vertical-align: middle;\n",
       "    }\n",
       "\n",
       "    .dataframe tbody tr th {\n",
       "        vertical-align: top;\n",
       "    }\n",
       "\n",
       "    .dataframe thead th {\n",
       "        text-align: right;\n",
       "    }\n",
       "</style>\n",
       "<table border=\"1\" class=\"dataframe\">\n",
       "  <thead>\n",
       "    <tr style=\"text-align: right;\">\n",
       "      <th></th>\n",
       "      <th>Pca1</th>\n",
       "      <th>Pca2</th>\n",
       "      <th>Pca3</th>\n",
       "      <th>Pca4</th>\n",
       "      <th>Pca5</th>\n",
       "    </tr>\n",
       "  </thead>\n",
       "  <tbody>\n",
       "    <tr>\n",
       "      <th>0</th>\n",
       "      <td>0.599157</td>\n",
       "      <td>0.095999</td>\n",
       "      <td>0.157120</td>\n",
       "      <td>0.024626</td>\n",
       "      <td>0.042488</td>\n",
       "    </tr>\n",
       "    <tr>\n",
       "      <th>1</th>\n",
       "      <td>-0.158795</td>\n",
       "      <td>-0.212766</td>\n",
       "      <td>-0.063291</td>\n",
       "      <td>0.060882</td>\n",
       "      <td>-0.016877</td>\n",
       "    </tr>\n",
       "    <tr>\n",
       "      <th>2</th>\n",
       "      <td>-0.003366</td>\n",
       "      <td>-0.135897</td>\n",
       "      <td>-0.133534</td>\n",
       "      <td>-0.133512</td>\n",
       "      <td>0.091981</td>\n",
       "    </tr>\n",
       "    <tr>\n",
       "      <th>3</th>\n",
       "      <td>0.650567</td>\n",
       "      <td>0.276103</td>\n",
       "      <td>-0.143532</td>\n",
       "      <td>-0.155463</td>\n",
       "      <td>0.083456</td>\n",
       "    </tr>\n",
       "    <tr>\n",
       "      <th>4</th>\n",
       "      <td>-0.200295</td>\n",
       "      <td>-0.065214</td>\n",
       "      <td>-0.100209</td>\n",
       "      <td>0.037578</td>\n",
       "      <td>0.030166</td>\n",
       "    </tr>\n",
       "  </tbody>\n",
       "</table>\n",
       "</div>"
      ],
      "text/plain": [
       "       Pca1      Pca2      Pca3      Pca4      Pca5\n",
       "0  0.599157  0.095999  0.157120  0.024626  0.042488\n",
       "1 -0.158795 -0.212766 -0.063291  0.060882 -0.016877\n",
       "2 -0.003366 -0.135897 -0.133534 -0.133512  0.091981\n",
       "3  0.650567  0.276103 -0.143532 -0.155463  0.083456\n",
       "4 -0.200295 -0.065214 -0.100209  0.037578  0.030166"
      ]
     },
     "execution_count": 19,
     "metadata": {},
     "output_type": "execute_result"
    }
   ],
   "source": [
    "#Converting the PCA values into Dataframe\n",
    "pca_df = pd.DataFrame(data=train_pca,columns=[\"Pca1\",\"Pca2\",\"Pca3\",\"Pca4\",\"Pca5\"])\n",
    "pca_df.head()"
   ]
  },
  {
   "cell_type": "code",
   "execution_count": null,
   "metadata": {},
   "outputs": [],
   "source": []
  },
  {
   "cell_type": "code",
   "execution_count": 20,
   "metadata": {},
   "outputs": [
    {
     "data": {
      "text/plain": [
       "<matplotlib.axes._subplots.AxesSubplot at 0x1698610e828>"
      ]
     },
     "execution_count": 20,
     "metadata": {},
     "output_type": "execute_result"
    },
    {
     "data": {
      "image/png": "[encoded data removed]",
      "text/plain": [
       "<Figure size 432x288 with 2 Axes>"
      ]
     },
     "metadata": {
      "needs_background": "light"
     },
     "output_type": "display_data"
    }
   ],
   "source": [
    "fig, axes = plt.subplots(nrows=1, ncols=2)\n",
    "fig.tight_layout()\n",
    "\n",
    "plt.subplot(1,2,1)\n",
    "sns.boxplot(pca_df[\"Pca1\"])\n",
    "plt.subplot(1,2,2)\n",
    "sns.boxplot(pca_df[\"Pca2\"])"
   ]
  },
  {
   "cell_type": "code",
   "execution_count": 21,
   "metadata": {},
   "outputs": [
    {
     "data": {
      "text/plain": [
       "<matplotlib.axes._subplots.AxesSubplot at 0x169865a1a90>"
      ]
     },
     "execution_count": 21,
     "metadata": {},
     "output_type": "execute_result"
    },
    {
     "data": {
      "image/png": "[encoded data removed]",
      "text/plain": [
       "<Figure size 432x288 with 2 Axes>"
      ]
     },
     "metadata": {
      "needs_background": "light"
     },
     "output_type": "display_data"
    }
   ],
   "source": [
    "fig, axes = plt.subplots(nrows=1, ncols=2)\n",
    "fig.tight_layout()\n",
    "\n",
    "plt.subplot(1,2,1)\n",
    "sns.boxplot(pca_df[\"Pca3\"])\n",
    "plt.subplot(1,2,2)\n",
    "sns.boxplot(pca_df[\"Pca4\"])"
   ]
  },
  {
   "cell_type": "code",
   "execution_count": 22,
   "metadata": {},
   "outputs": [
    {
     "data": {
      "text/plain": [
       "<matplotlib.axes._subplots.AxesSubplot at 0x169868274e0>"
      ]
     },
     "execution_count": 22,
     "metadata": {},
     "output_type": "execute_result"
    },
    {
     "data": {
      "image/png": "[encoded data removed]",
      "text/plain": [
       "<Figure size 432x288 with 1 Axes>"
      ]
     },
     "metadata": {
      "needs_background": "light"
     },
     "output_type": "display_data"
    }
   ],
   "source": [
    "plt.subplot(1,2,1)\n",
    "sns.boxplot(pca_df[\"Pca5\"])"
   ]
  },
  {
   "cell_type": "code",
   "execution_count": 23,
   "metadata": {},
   "outputs": [],
   "source": [
    "Q1 = pca_df.quantile(0.25)\n",
    "Q3 = pca_df.quantile(0.75)\n",
    "IQR = Q3-Q1"
   ]
  },
  {
   "cell_type": "code",
   "execution_count": 24,
   "metadata": {},
   "outputs": [
    {
     "name": "stdout",
     "output_type": "stream",
     "text": [
      "shape of new data without country column:\n",
      " (148, 5)\n"
     ]
    }
   ],
   "source": [
    "pca_df1 = pca_df[~((pca_df < (Q1 - 1.5 * IQR)) |(pca_df > (Q3 + 1.5 * IQR))).any(axis=1)]\n",
    "print(\"shape of new data without country column:\\n\",pca_df1.shape)"
   ]
  },
  {
   "cell_type": "code",
   "execution_count": 25,
   "metadata": {},
   "outputs": [
    {
     "name": "stdout",
     "output_type": "stream",
     "text": [
      "shape of outlier data:\n",
      " (19, 5)\n"
     ]
    }
   ],
   "source": [
    "pca_df2 = pca_df[((pca_df < (Q1 - 1.5 * IQR)) |(pca_df > (Q3 + 1.5 * IQR))).any(axis=1)]\n",
    "print(\"shape of outlier data:\\n\",pca_df2.shape)"
   ]
  },
  {
   "cell_type": "code",
   "execution_count": 26,
   "metadata": {},
   "outputs": [
    {
     "data": {
      "text/plain": [
       "<matplotlib.axes._subplots.AxesSubplot at 0x16986872438>"
      ]
     },
     "execution_count": 26,
     "metadata": {},
     "output_type": "execute_result"
    },
    {
     "data": {
      "image/png": "[encoded data removed]",
      "text/plain": [
       "<Figure size 432x288 with 2 Axes>"
      ]
     },
     "metadata": {
      "needs_background": "light"
     },
     "output_type": "display_data"
    }
   ],
   "source": [
    "fig, axes = plt.subplots(nrows=1, ncols=2)\n",
    "fig.tight_layout()\n",
    "\n",
    "plt.subplot(1,2,1)\n",
    "sns.boxplot(pca_df1[\"Pca1\"])\n",
    "plt.subplot(1,2,2)\n",
    "sns.boxplot(pca_df1[\"Pca2\"])"
   ]
  },
  {
   "cell_type": "code",
   "execution_count": 27,
   "metadata": {},
   "outputs": [
    {
     "data": {
      "text/plain": [
       "<matplotlib.axes._subplots.AxesSubplot at 0x1698674fa90>"
      ]
     },
     "execution_count": 27,
     "metadata": {},
     "output_type": "execute_result"
    },
    {
     "data": {
      "image/png": "[encoded data removed]",
      "text/plain": [
       "<Figure size 432x288 with 2 Axes>"
      ]
     },
     "metadata": {
      "needs_background": "light"
     },
     "output_type": "display_data"
    }
   ],
   "source": [
    "fig, axes = plt.subplots(nrows=1, ncols=2)\n",
    "fig.tight_layout()\n",
    "\n",
    "plt.subplot(1,2,1)\n",
    "sns.boxplot(pca_df1[\"Pca3\"])\n",
    "plt.subplot(1,2,2)\n",
    "sns.boxplot(pca_df1[\"Pca4\"])"
   ]
  },
  {
   "cell_type": "code",
   "execution_count": 28,
   "metadata": {},
   "outputs": [
    {
     "data": {
      "text/plain": [
       "<matplotlib.axes._subplots.AxesSubplot at 0x16986758f60>"
      ]
     },
     "execution_count": 28,
     "metadata": {},
     "output_type": "execute_result"
    },
    {
     "data": {
      "image/png": "[encoded data removed]",
      "text/plain": [
       "<Figure size 432x288 with 1 Axes>"
      ]
     },
     "metadata": {
      "needs_background": "light"
     },
     "output_type": "display_data"
    }
   ],
   "source": [
    "plt.subplot(1,2,1)\n",
    "sns.boxplot(pca_df1[\"Pca5\"])"
   ]
  },
  {
   "cell_type": "code",
   "execution_count": 29,
   "metadata": {},
   "outputs": [
    {
     "data": {
      "text/plain": [
       "<matplotlib.collections.PathCollection at 0x1698695add8>"
      ]
     },
     "execution_count": 29,
     "metadata": {},
     "output_type": "execute_result"
    },
    {
     "data": {
      "image/png": "[encoded data removed]",
      "text/plain": [
       "<Figure size 432x288 with 1 Axes>"
      ]
     },
     "metadata": {
      "needs_background": "light"
     },
     "output_type": "display_data"
    }
   ],
   "source": [
    "plt.scatter(pca_df1[\"Pca1\"],pca_df1[\"Pca2\"],cmap=\"plasma\")"
   ]
  },
  {
   "cell_type": "code",
   "execution_count": 30,
   "metadata": {},
   "outputs": [
    {
     "data": {
      "text/plain": [
       "<matplotlib.collections.PathCollection at 0x169869ccf28>"
      ]
     },
     "execution_count": 30,
     "metadata": {},
     "output_type": "execute_result"
    },
    {
     "data": {
      "image/png": "[encoded data removed]",
      "text/plain": [
       "<Figure size 432x288 with 1 Axes>"
      ]
     },
     "metadata": {
      "needs_background": "light"
     },
     "output_type": "display_data"
    }
   ],
   "source": [
    "plt.scatter(pca_df1[\"Pca3\"],pca_df1[\"Pca4\"],cmap=\"plasma\")"
   ]
  },
  {
   "cell_type": "code",
   "execution_count": 31,
   "metadata": {},
   "outputs": [
    {
     "data": {
      "text/plain": [
       "<matplotlib.collections.PathCollection at 0x16986a312b0>"
      ]
     },
     "execution_count": 31,
     "metadata": {},
     "output_type": "execute_result"
    },
    {
     "data": {
      "image/png": "[encoded data removed]",
      "text/plain": [
       "<Figure size 432x288 with 1 Axes>"
      ]
     },
     "metadata": {
      "needs_background": "light"
     },
     "output_type": "display_data"
    }
   ],
   "source": [
    "plt.scatter(pca_df1[\"Pca1\"],pca_df1[\"Pca5\"],cmap=\"plasma\")"
   ]
  },
  {
   "cell_type": "code",
   "execution_count": 32,
   "metadata": {},
   "outputs": [],
   "source": [
    "from sklearn.neighbors import NearestNeighbors\n",
    "from random import sample\n",
    "from numpy.random import uniform\n",
    "import numpy as np\n",
    "from math import isnan\n",
    "from sklearn.cluster import KMeans\n",
    " \n",
    "def hopkins(X):\n",
    "    d = X.shape[1]\n",
    "    #d = len(vars) # columns\n",
    "    n = len(X) # rows\n",
    "    m = int(0.1 * n) \n",
    "    nbrs = NearestNeighbors(n_neighbors=1).fit(X.values)\n",
    " \n",
    "    rand_X = sample(range(0, n, 1), m)\n",
    " \n",
    "    ujd = []\n",
    "    wjd = []\n",
    "    for j in range(0, m):\n",
    "        u_dist, _ = nbrs.kneighbors(uniform(np.amin(X,axis=0),np.amax(X,axis=0),d).reshape(1, -1), 2, return_distance=True)\n",
    "        ujd.append(u_dist[0][1])\n",
    "        w_dist, _ = nbrs.kneighbors(X.iloc[rand_X[j]].values.reshape(1, -1), 2, return_distance=True)\n",
    "        wjd.append(w_dist[0][1])\n",
    " \n",
    "    H = sum(ujd) / (sum(ujd) + sum(wjd))\n",
    "    if isnan(H):\n",
    "        print(ujd, wjd)\n",
    "        H = 0\n",
    " \n",
    "    return H"
   ]
  },
  {
   "cell_type": "code",
   "execution_count": 33,
   "metadata": {},
   "outputs": [
    {
     "data": {
      "text/plain": [
       "0.7266815649837424"
      ]
     },
     "execution_count": 33,
     "metadata": {},
     "output_type": "execute_result"
    }
   ],
   "source": [
    "hopkins(pca_df1)"
   ]
  },
  {
   "cell_type": "code",
   "execution_count": 34,
   "metadata": {},
   "outputs": [
    {
     "data": {
      "text/plain": [
       "KMeans(algorithm='auto', copy_x=True, init='k-means++', max_iter=50,\n",
       "    n_clusters=5, n_init=10, n_jobs=None, precompute_distances='auto',\n",
       "    random_state=None, tol=0.0001, verbose=0)"
      ]
     },
     "execution_count": 34,
     "metadata": {},
     "output_type": "execute_result"
    }
   ],
   "source": [
    "# Kmeans with K=5\n",
    "model_clus5 = KMeans(n_clusters = 5, max_iter=50)\n",
    "model_clus5.fit(pca_df1)"
   ]
  },
  {
   "cell_type": "code",
   "execution_count": 35,
   "metadata": {},
   "outputs": [],
   "source": [
    "from sklearn.metrics import silhouette_score\n",
    "sse_ = []\n",
    "for k in range(2, 15):\n",
    "    kmeans = KMeans(n_clusters=k).fit(pca_df1)\n",
    "    sse_.append([k, silhouette_score(pca_df1, kmeans.labels_)])"
   ]
  },
  {
   "cell_type": "code",
   "execution_count": 36,
   "metadata": {},
   "outputs": [
    {
     "data": {
      "image/png": "[encoded data removed]",
      "text/plain": [
       "<Figure size 432x288 with 1 Axes>"
      ]
     },
     "metadata": {
      "needs_background": "light"
     },
     "output_type": "display_data"
    }
   ],
   "source": [
    "plt.plot(pd.DataFrame(sse_)[0], pd.DataFrame(sse_)[1]);"
   ]
  },
  {
   "cell_type": "code",
   "execution_count": 37,
   "metadata": {},
   "outputs": [
    {
     "data": {
      "text/plain": [
       "[<matplotlib.lines.Line2D at 0x169878d5940>]"
      ]
     },
     "execution_count": 37,
     "metadata": {},
     "output_type": "execute_result"
    },
    {
     "data": {
      "image/png": "[encoded data removed]",
      "text/plain": [
       "<Figure size 432x288 with 1 Axes>"
      ]
     },
     "metadata": {
      "needs_background": "light"
     },
     "output_type": "display_data"
    }
   ],
   "source": [
    "# sum of squared distances\n",
    "ssd = []\n",
    "for num_clusters in list(range(1,21)):\n",
    "    model_clus = KMeans(n_clusters = num_clusters, max_iter=50)\n",
    "    model_clus.fit(pca_df1)\n",
    "    ssd.append(model_clus.inertia_)\n",
    "\n",
    "plt.plot(ssd)"
   ]
  },
  {
   "cell_type": "code",
   "execution_count": 38,
   "metadata": {},
   "outputs": [],
   "source": [
    "pca_df1[\"country\"] = df[\"country\"]\n",
    "df_new[\"country\"] = df[\"country\"]"
   ]
  },
  {
   "cell_type": "code",
   "execution_count": 39,
   "metadata": {},
   "outputs": [
    {
     "data": {
      "text/html": [
       "<div>\n",
       "<style scoped>\n",
       "    .dataframe tbody tr th:only-of-type {\n",
       "        vertical-align: middle;\n",
       "    }\n",
       "\n",
       "    .dataframe tbody tr th {\n",
       "        vertical-align: top;\n",
       "    }\n",
       "\n",
       "    .dataframe thead th {\n",
       "        text-align: right;\n",
       "    }\n",
       "</style>\n",
       "<table border=\"1\" class=\"dataframe\">\n",
       "  <thead>\n",
       "    <tr style=\"text-align: right;\">\n",
       "      <th></th>\n",
       "      <th>child_mort</th>\n",
       "      <th>exports</th>\n",
       "      <th>health</th>\n",
       "      <th>imports</th>\n",
       "      <th>income</th>\n",
       "      <th>inflation</th>\n",
       "      <th>life_expec</th>\n",
       "      <th>total_fer</th>\n",
       "      <th>gdpp</th>\n",
       "      <th>country</th>\n",
       "    </tr>\n",
       "  </thead>\n",
       "  <tbody>\n",
       "    <tr>\n",
       "      <th>0</th>\n",
       "      <td>0.427184</td>\n",
       "      <td>0.049482</td>\n",
       "      <td>0.358608</td>\n",
       "      <td>0.257765</td>\n",
       "      <td>0.008047</td>\n",
       "      <td>0.126144</td>\n",
       "      <td>0.475345</td>\n",
       "      <td>0.736593</td>\n",
       "      <td>0.003073</td>\n",
       "      <td>Afghanistan</td>\n",
       "    </tr>\n",
       "    <tr>\n",
       "      <th>1</th>\n",
       "      <td>0.067961</td>\n",
       "      <td>0.139531</td>\n",
       "      <td>0.294593</td>\n",
       "      <td>0.279037</td>\n",
       "      <td>0.074933</td>\n",
       "      <td>0.080399</td>\n",
       "      <td>0.871795</td>\n",
       "      <td>0.078864</td>\n",
       "      <td>0.036833</td>\n",
       "      <td>Albania</td>\n",
       "    </tr>\n",
       "    <tr>\n",
       "      <th>2</th>\n",
       "      <td>0.121359</td>\n",
       "      <td>0.191559</td>\n",
       "      <td>0.146675</td>\n",
       "      <td>0.180149</td>\n",
       "      <td>0.098809</td>\n",
       "      <td>0.187691</td>\n",
       "      <td>0.875740</td>\n",
       "      <td>0.274448</td>\n",
       "      <td>0.040365</td>\n",
       "      <td>Algeria</td>\n",
       "    </tr>\n",
       "    <tr>\n",
       "      <th>3</th>\n",
       "      <td>0.567961</td>\n",
       "      <td>0.311125</td>\n",
       "      <td>0.064636</td>\n",
       "      <td>0.246266</td>\n",
       "      <td>0.042535</td>\n",
       "      <td>0.245911</td>\n",
       "      <td>0.552268</td>\n",
       "      <td>0.790221</td>\n",
       "      <td>0.031488</td>\n",
       "      <td>Angola</td>\n",
       "    </tr>\n",
       "    <tr>\n",
       "      <th>4</th>\n",
       "      <td>0.038835</td>\n",
       "      <td>0.227079</td>\n",
       "      <td>0.262275</td>\n",
       "      <td>0.338255</td>\n",
       "      <td>0.148652</td>\n",
       "      <td>0.052213</td>\n",
       "      <td>0.881657</td>\n",
       "      <td>0.154574</td>\n",
       "      <td>0.114242</td>\n",
       "      <td>Antigua and Barbuda</td>\n",
       "    </tr>\n",
       "  </tbody>\n",
       "</table>\n",
       "</div>"
      ],
      "text/plain": [
       "   child_mort   exports    health   imports    income  inflation  life_expec  \\\n",
       "0    0.427184  0.049482  0.358608  0.257765  0.008047   0.126144    0.475345   \n",
       "1    0.067961  0.139531  0.294593  0.279037  0.074933   0.080399    0.871795   \n",
       "2    0.121359  0.191559  0.146675  0.180149  0.098809   0.187691    0.875740   \n",
       "3    0.567961  0.311125  0.064636  0.246266  0.042535   0.245911    0.552268   \n",
       "4    0.038835  0.227079  0.262275  0.338255  0.148652   0.052213    0.881657   \n",
       "\n",
       "   total_fer      gdpp              country  \n",
       "0   0.736593  0.003073          Afghanistan  \n",
       "1   0.078864  0.036833              Albania  \n",
       "2   0.274448  0.040365              Algeria  \n",
       "3   0.790221  0.031488               Angola  \n",
       "4   0.154574  0.114242  Antigua and Barbuda  "
      ]
     },
     "execution_count": 39,
     "metadata": {},
     "output_type": "execute_result"
    }
   ],
   "source": [
    "df_new.head()"
   ]
  },
  {
   "cell_type": "code",
   "execution_count": 40,
   "metadata": {},
   "outputs": [],
   "source": [
    "# analysis of clusters formed\n",
    "pca_df1.index = pd.RangeIndex(len(pca_df1.index))\n",
    "pca_df1_km = pd.concat([pca_df1, pd.Series(model_clus5.labels_)], axis=1)\n",
    "pca_df1_km.columns = ['Pca1', 'Pca2', 'Pca3','Pca4','Pca5',\"country\",\"ClusterID\"]\n",
    "km_clusters_pca1 = pd.DataFrame(pca_df1_km.groupby([\"ClusterID\"]).Pca1.mean())\n",
    "km_clusters_pca2 = \tpd.DataFrame(pca_df1_km.groupby([\"ClusterID\"]).Pca2.mean())\n",
    "km_clusters_pca3 = \tpd.DataFrame(pca_df1_km.groupby([\"ClusterID\"]).Pca3.mean())\n",
    "km_clusters_pca4 = \tpd.DataFrame(pca_df1_km.groupby([\"ClusterID\"]).Pca4.mean())\n",
    "km_clusters_pca5 = \tpd.DataFrame(pca_df1_km.groupby([\"ClusterID\"]).Pca5.mean())"
   ]
  },
  {
   "cell_type": "code",
   "execution_count": 41,
   "metadata": {},
   "outputs": [
    {
     "data": {
      "text/html": [
       "<div>\n",
       "<style scoped>\n",
       "    .dataframe tbody tr th:only-of-type {\n",
       "        vertical-align: middle;\n",
       "    }\n",
       "\n",
       "    .dataframe tbody tr th {\n",
       "        vertical-align: top;\n",
       "    }\n",
       "\n",
       "    .dataframe thead th {\n",
       "        text-align: right;\n",
       "    }\n",
       "</style>\n",
       "<table border=\"1\" class=\"dataframe\">\n",
       "  <thead>\n",
       "    <tr style=\"text-align: right;\">\n",
       "      <th></th>\n",
       "      <th>Pca1</th>\n",
       "      <th>Pca2</th>\n",
       "      <th>Pca3</th>\n",
       "      <th>Pca4</th>\n",
       "      <th>Pca5</th>\n",
       "      <th>country</th>\n",
       "      <th>ClusterID</th>\n",
       "      <th>child_mort</th>\n",
       "      <th>exports</th>\n",
       "      <th>health</th>\n",
       "      <th>imports</th>\n",
       "      <th>income</th>\n",
       "      <th>inflation</th>\n",
       "      <th>life_expec</th>\n",
       "      <th>total_fer</th>\n",
       "      <th>gdpp</th>\n",
       "    </tr>\n",
       "  </thead>\n",
       "  <tbody>\n",
       "    <tr>\n",
       "      <th>0</th>\n",
       "      <td>0.599157</td>\n",
       "      <td>0.095999</td>\n",
       "      <td>0.157120</td>\n",
       "      <td>0.024626</td>\n",
       "      <td>0.042488</td>\n",
       "      <td>Afghanistan</td>\n",
       "      <td>0</td>\n",
       "      <td>0.427184</td>\n",
       "      <td>0.049482</td>\n",
       "      <td>0.358608</td>\n",
       "      <td>0.257765</td>\n",
       "      <td>0.008047</td>\n",
       "      <td>0.126144</td>\n",
       "      <td>0.475345</td>\n",
       "      <td>0.736593</td>\n",
       "      <td>0.003073</td>\n",
       "    </tr>\n",
       "    <tr>\n",
       "      <th>1</th>\n",
       "      <td>-0.158795</td>\n",
       "      <td>-0.212766</td>\n",
       "      <td>-0.063291</td>\n",
       "      <td>0.060882</td>\n",
       "      <td>-0.016877</td>\n",
       "      <td>Albania</td>\n",
       "      <td>4</td>\n",
       "      <td>0.067961</td>\n",
       "      <td>0.139531</td>\n",
       "      <td>0.294593</td>\n",
       "      <td>0.279037</td>\n",
       "      <td>0.074933</td>\n",
       "      <td>0.080399</td>\n",
       "      <td>0.871795</td>\n",
       "      <td>0.078864</td>\n",
       "      <td>0.036833</td>\n",
       "    </tr>\n",
       "    <tr>\n",
       "      <th>2</th>\n",
       "      <td>-0.003366</td>\n",
       "      <td>-0.135897</td>\n",
       "      <td>-0.133534</td>\n",
       "      <td>-0.133512</td>\n",
       "      <td>0.091981</td>\n",
       "      <td>Algeria</td>\n",
       "      <td>1</td>\n",
       "      <td>0.121359</td>\n",
       "      <td>0.191559</td>\n",
       "      <td>0.146675</td>\n",
       "      <td>0.180149</td>\n",
       "      <td>0.098809</td>\n",
       "      <td>0.187691</td>\n",
       "      <td>0.875740</td>\n",
       "      <td>0.274448</td>\n",
       "      <td>0.040365</td>\n",
       "    </tr>\n",
       "    <tr>\n",
       "      <th>3</th>\n",
       "      <td>0.650567</td>\n",
       "      <td>0.276103</td>\n",
       "      <td>-0.143532</td>\n",
       "      <td>-0.155463</td>\n",
       "      <td>0.083456</td>\n",
       "      <td>Angola</td>\n",
       "      <td>0</td>\n",
       "      <td>0.567961</td>\n",
       "      <td>0.311125</td>\n",
       "      <td>0.064636</td>\n",
       "      <td>0.246266</td>\n",
       "      <td>0.042535</td>\n",
       "      <td>0.245911</td>\n",
       "      <td>0.552268</td>\n",
       "      <td>0.790221</td>\n",
       "      <td>0.031488</td>\n",
       "    </tr>\n",
       "    <tr>\n",
       "      <th>4</th>\n",
       "      <td>-0.200295</td>\n",
       "      <td>-0.065214</td>\n",
       "      <td>-0.100209</td>\n",
       "      <td>0.037578</td>\n",
       "      <td>0.030166</td>\n",
       "      <td>Antigua and Barbuda</td>\n",
       "      <td>4</td>\n",
       "      <td>0.038835</td>\n",
       "      <td>0.227079</td>\n",
       "      <td>0.262275</td>\n",
       "      <td>0.338255</td>\n",
       "      <td>0.148652</td>\n",
       "      <td>0.052213</td>\n",
       "      <td>0.881657</td>\n",
       "      <td>0.154574</td>\n",
       "      <td>0.114242</td>\n",
       "    </tr>\n",
       "  </tbody>\n",
       "</table>\n",
       "</div>"
      ],
      "text/plain": [
       "       Pca1      Pca2      Pca3      Pca4      Pca5              country  \\\n",
       "0  0.599157  0.095999  0.157120  0.024626  0.042488          Afghanistan   \n",
       "1 -0.158795 -0.212766 -0.063291  0.060882 -0.016877              Albania   \n",
       "2 -0.003366 -0.135897 -0.133534 -0.133512  0.091981              Algeria   \n",
       "3  0.650567  0.276103 -0.143532 -0.155463  0.083456               Angola   \n",
       "4 -0.200295 -0.065214 -0.100209  0.037578  0.030166  Antigua and Barbuda   \n",
       "\n",
       "   ClusterID  child_mort   exports    health   imports    income  inflation  \\\n",
       "0          0    0.427184  0.049482  0.358608  0.257765  0.008047   0.126144   \n",
       "1          4    0.067961  0.139531  0.294593  0.279037  0.074933   0.080399   \n",
       "2          1    0.121359  0.191559  0.146675  0.180149  0.098809   0.187691   \n",
       "3          0    0.567961  0.311125  0.064636  0.246266  0.042535   0.245911   \n",
       "4          4    0.038835  0.227079  0.262275  0.338255  0.148652   0.052213   \n",
       "\n",
       "   life_expec  total_fer      gdpp  \n",
       "0    0.475345   0.736593  0.003073  \n",
       "1    0.871795   0.078864  0.036833  \n",
       "2    0.875740   0.274448  0.040365  \n",
       "3    0.552268   0.790221  0.031488  \n",
       "4    0.881657   0.154574  0.114242  "
      ]
     },
     "execution_count": 41,
     "metadata": {},
     "output_type": "execute_result"
    }
   ],
   "source": [
    "#merging the pca data frame and country dataframe to get all data in one dataframe for analysis\n",
    "pca_df1_km=pca_df1_km.merge(df_new,how='inner',on='country')\n",
    "pca_df1_km.head()"
   ]
  },
  {
   "cell_type": "code",
   "execution_count": 42,
   "metadata": {},
   "outputs": [],
   "source": [
    "km_clusters_child_mort = pd.DataFrame(pca_df1_km.groupby([\"ClusterID\"]).child_mort.mean())\n",
    "km_clusters_exports = \tpd.DataFrame(pca_df1_km.groupby([\"ClusterID\"]).exports.mean())\n",
    "km_clusters_health = \tpd.DataFrame(pca_df1_km.groupby([\"ClusterID\"]).health.mean())\n",
    "km_clusters_imports = \tpd.DataFrame(pca_df1_km.groupby([\"ClusterID\"]).imports.mean())\n",
    "km_clusters_income = \tpd.DataFrame(pca_df1_km.groupby([\"ClusterID\"]).income.mean())\n",
    "km_clusters_inflation = \tpd.DataFrame(pca_df1_km.groupby([\"ClusterID\"]).inflation.mean())\n",
    "km_clusters_life_expec = \tpd.DataFrame(pca_df1_km.groupby([\"ClusterID\"]).life_expec.mean())\n",
    "km_clusters_total_fer = \tpd.DataFrame(pca_df1_km.groupby([\"ClusterID\"]).total_fer.mean())\n",
    "km_clusters_gdpp = \tpd.DataFrame(pca_df1_km.groupby([\"ClusterID\"]).gdpp.mean())"
   ]
  },
  {
   "cell_type": "code",
   "execution_count": 43,
   "metadata": {},
   "outputs": [
    {
     "data": {
      "text/html": [
       "<div>\n",
       "<style scoped>\n",
       "    .dataframe tbody tr th:only-of-type {\n",
       "        vertical-align: middle;\n",
       "    }\n",
       "\n",
       "    .dataframe tbody tr th {\n",
       "        vertical-align: top;\n",
       "    }\n",
       "\n",
       "    .dataframe thead th {\n",
       "        text-align: right;\n",
       "    }\n",
       "</style>\n",
       "<table border=\"1\" class=\"dataframe\">\n",
       "  <thead>\n",
       "    <tr style=\"text-align: right;\">\n",
       "      <th></th>\n",
       "      <th>ClusterID</th>\n",
       "      <th>Pca1_mean</th>\n",
       "      <th>Pca2_mean</th>\n",
       "      <th>Pca3_mean</th>\n",
       "      <th>Pca4_mean</th>\n",
       "      <th>Pca5_mean</th>\n",
       "      <th>child_mort</th>\n",
       "      <th>exports</th>\n",
       "      <th>health</th>\n",
       "      <th>imports</th>\n",
       "      <th>income</th>\n",
       "      <th>inflation</th>\n",
       "      <th>life_expec</th>\n",
       "      <th>total_fer</th>\n",
       "      <th>gdpp</th>\n",
       "    </tr>\n",
       "  </thead>\n",
       "  <tbody>\n",
       "    <tr>\n",
       "      <th>0</th>\n",
       "      <td>0</td>\n",
       "      <td>0.608645</td>\n",
       "      <td>0.140555</td>\n",
       "      <td>0.100048</td>\n",
       "      <td>0.001034</td>\n",
       "      <td>0.017927</td>\n",
       "      <td>0.507061</td>\n",
       "      <td>0.134101</td>\n",
       "      <td>0.311995</td>\n",
       "      <td>0.239158</td>\n",
       "      <td>0.009109</td>\n",
       "      <td>0.120420</td>\n",
       "      <td>0.504483</td>\n",
       "      <td>0.722397</td>\n",
       "      <td>0.005201</td>\n",
       "    </tr>\n",
       "    <tr>\n",
       "      <th>1</th>\n",
       "      <td>1</td>\n",
       "      <td>-0.031885</td>\n",
       "      <td>-0.146071</td>\n",
       "      <td>-0.083261</td>\n",
       "      <td>-0.050770</td>\n",
       "      <td>-0.000367</td>\n",
       "      <td>0.111989</td>\n",
       "      <td>0.166415</td>\n",
       "      <td>0.219232</td>\n",
       "      <td>0.209671</td>\n",
       "      <td>0.094747</td>\n",
       "      <td>0.137092</td>\n",
       "      <td>0.795789</td>\n",
       "      <td>0.201379</td>\n",
       "      <td>0.054760</td>\n",
       "    </tr>\n",
       "    <tr>\n",
       "      <th>2</th>\n",
       "      <td>2</td>\n",
       "      <td>-0.459141</td>\n",
       "      <td>0.074195</td>\n",
       "      <td>0.239687</td>\n",
       "      <td>-0.064158</td>\n",
       "      <td>-0.001389</td>\n",
       "      <td>0.008605</td>\n",
       "      <td>0.209660</td>\n",
       "      <td>0.520058</td>\n",
       "      <td>0.225386</td>\n",
       "      <td>0.315465</td>\n",
       "      <td>0.051290</td>\n",
       "      <td>0.964318</td>\n",
       "      <td>0.103384</td>\n",
       "      <td>0.430001</td>\n",
       "    </tr>\n",
       "    <tr>\n",
       "      <th>3</th>\n",
       "      <td>3</td>\n",
       "      <td>0.282367</td>\n",
       "      <td>0.004178</td>\n",
       "      <td>-0.048755</td>\n",
       "      <td>0.007949</td>\n",
       "      <td>0.022125</td>\n",
       "      <td>0.274175</td>\n",
       "      <td>0.174508</td>\n",
       "      <td>0.234580</td>\n",
       "      <td>0.272690</td>\n",
       "      <td>0.032589</td>\n",
       "      <td>0.127086</td>\n",
       "      <td>0.634477</td>\n",
       "      <td>0.459495</td>\n",
       "      <td>0.018927</td>\n",
       "    </tr>\n",
       "    <tr>\n",
       "      <th>4</th>\n",
       "      <td>4</td>\n",
       "      <td>-0.245679</td>\n",
       "      <td>-0.064738</td>\n",
       "      <td>-0.076837</td>\n",
       "      <td>0.091786</td>\n",
       "      <td>-0.000448</td>\n",
       "      <td>0.036677</td>\n",
       "      <td>0.270894</td>\n",
       "      <td>0.331866</td>\n",
       "      <td>0.337936</td>\n",
       "      <td>0.149856</td>\n",
       "      <td>0.072704</td>\n",
       "      <td>0.862755</td>\n",
       "      <td>0.088328</td>\n",
       "      <td>0.111636</td>\n",
       "    </tr>\n",
       "  </tbody>\n",
       "</table>\n",
       "</div>"
      ],
      "text/plain": [
       "   ClusterID  Pca1_mean  Pca2_mean  Pca3_mean  Pca4_mean  Pca5_mean  \\\n",
       "0          0   0.608645   0.140555   0.100048   0.001034   0.017927   \n",
       "1          1  -0.031885  -0.146071  -0.083261  -0.050770  -0.000367   \n",
       "2          2  -0.459141   0.074195   0.239687  -0.064158  -0.001389   \n",
       "3          3   0.282367   0.004178  -0.048755   0.007949   0.022125   \n",
       "4          4  -0.245679  -0.064738  -0.076837   0.091786  -0.000448   \n",
       "\n",
       "   child_mort   exports    health   imports    income  inflation  life_expec  \\\n",
       "0    0.507061  0.134101  0.311995  0.239158  0.009109   0.120420    0.504483   \n",
       "1    0.111989  0.166415  0.219232  0.209671  0.094747   0.137092    0.795789   \n",
       "2    0.008605  0.209660  0.520058  0.225386  0.315465   0.051290    0.964318   \n",
       "3    0.274175  0.174508  0.234580  0.272690  0.032589   0.127086    0.634477   \n",
       "4    0.036677  0.270894  0.331866  0.337936  0.149856   0.072704    0.862755   \n",
       "\n",
       "   total_fer      gdpp  \n",
       "0   0.722397  0.005201  \n",
       "1   0.201379  0.054760  \n",
       "2   0.103384  0.430001  \n",
       "3   0.459495  0.018927  \n",
       "4   0.088328  0.111636  "
      ]
     },
     "execution_count": 43,
     "metadata": {},
     "output_type": "execute_result"
    }
   ],
   "source": [
    "df1 = pd.concat([pd.Series([0,1,2,3,4]), km_clusters_pca1, km_clusters_pca2, km_clusters_pca3,km_clusters_pca4,km_clusters_pca5,\n",
    "                km_clusters_child_mort,km_clusters_exports,km_clusters_health,km_clusters_imports,km_clusters_income\n",
    "                ,km_clusters_inflation,km_clusters_life_expec,km_clusters_total_fer,km_clusters_gdpp], axis=1)\n",
    "df1.columns = [\"ClusterID\",\"Pca1_mean\", \"Pca2_mean\", \"Pca3_mean\",\"Pca4_mean\",\"Pca5_mean\",\n",
    "              'child_mort', 'exports', 'health', 'imports', 'income','inflation', 'life_expec', 'total_fer', 'gdpp']\n",
    "df1"
   ]
  },
  {
   "cell_type": "code",
   "execution_count": 44,
   "metadata": {
    "scrolled": true
   },
   "outputs": [
    {
     "data": {
      "text/plain": [
       "<matplotlib.axes._subplots.AxesSubplot at 0x169864585f8>"
      ]
     },
     "execution_count": 44,
     "metadata": {},
     "output_type": "execute_result"
    },
    {
     "data": {
      "image/png": "[encoded data removed]",
      "text/plain": [
       "<Figure size 1440x1800 with 5 Axes>"
      ]
     },
     "metadata": {
      "needs_background": "light"
     },
     "output_type": "display_data"
    }
   ],
   "source": [
    "# Making the Subplots of PCA_means Clusters\n",
    "\n",
    "plt.figure(figsize=(20,25))\n",
    "plt.subplot(5,2,1)\n",
    "plt.tight_layout()\n",
    "sns.barplot(x=df1.ClusterID, y=df1.Pca1_mean)\n",
    "plt.subplot(5,2,2)\n",
    "plt.tight_layout()\n",
    "sns.barplot(x=df1.ClusterID, y=df1.Pca2_mean)\n",
    "plt.subplot(5,2,3)\n",
    "plt.tight_layout()\n",
    "sns.barplot(x=df1.ClusterID, y=df1.Pca3_mean)\n",
    "plt.subplot(5,2,4)\n",
    "plt.tight_layout()\n",
    "sns.barplot(x=df1.ClusterID, y=df1.Pca4_mean)\n",
    "plt.subplot(5,2,5)\n",
    "plt.tight_layout()\n",
    "sns.barplot(x=df1.ClusterID, y=df1.Pca5_mean)\n"
   ]
  },
  {
   "cell_type": "code",
   "execution_count": 45,
   "metadata": {},
   "outputs": [
    {
     "data": {
      "text/plain": [
       "Index(['country', 'child_mort', 'exports', 'health', 'imports', 'income',\n",
       "       'inflation', 'life_expec', 'total_fer', 'gdpp'],\n",
       "      dtype='object')"
      ]
     },
     "execution_count": 45,
     "metadata": {},
     "output_type": "execute_result"
    }
   ],
   "source": [
    "df.columns"
   ]
  },
  {
   "cell_type": "code",
   "execution_count": 46,
   "metadata": {},
   "outputs": [
    {
     "data": {
      "text/plain": [
       "<matplotlib.axes._subplots.AxesSubplot at 0x169894c7780>"
      ]
     },
     "execution_count": 46,
     "metadata": {},
     "output_type": "execute_result"
    },
    {
     "data": {
      "image/png": "[encoded data removed]",
      "text/plain": [
       "<Figure size 1440x1800 with 9 Axes>"
      ]
     },
     "metadata": {
      "needs_background": "light"
     },
     "output_type": "display_data"
    }
   ],
   "source": [
    "# Making the Subplots of Variables to clusters\n",
    "plt.figure(figsize=(20,25))\n",
    "plt.subplot(5,2,1)\n",
    "plt.tight_layout()\n",
    "sns.barplot(x=df1.ClusterID, y=df1.child_mort)\n",
    "plt.subplot(5,2,2)\n",
    "plt.tight_layout()\n",
    "sns.barplot(x=df1.ClusterID, y=df1.exports)\n",
    "plt.subplot(5,2,3)\n",
    "plt.tight_layout()\n",
    "sns.barplot(x=df1.ClusterID, y=df1.health)\n",
    "plt.subplot(5,2,4)\n",
    "plt.tight_layout()\n",
    "sns.barplot(x=df1.ClusterID, y=df1.imports)\n",
    "plt.subplot(5,2,5)\n",
    "plt.tight_layout()\n",
    "sns.barplot(x=df1.ClusterID, y=df1.income)\n",
    "plt.subplot(5,2,6)\n",
    "plt.tight_layout()\n",
    "sns.barplot(x=df1.ClusterID, y=df1.inflation)\n",
    "plt.subplot(5,2,7)\n",
    "plt.tight_layout()\n",
    "sns.barplot(x=df1.ClusterID, y=df1.life_expec)\n",
    "plt.subplot(5,2,8)\n",
    "plt.tight_layout()\n",
    "sns.barplot(x=df1.ClusterID, y=df1.total_fer)\n",
    "plt.subplot(5,2,9)\n",
    "plt.tight_layout()\n",
    "sns.barplot(x=df1.ClusterID, y=df1.gdpp)\n"
   ]
  },
  {
   "cell_type": "markdown",
   "metadata": {},
   "source": [
    "# Hirarchical"
   ]
  },
  {
   "cell_type": "code",
   "execution_count": 47,
   "metadata": {},
   "outputs": [],
   "source": [
    "# To perform Hierarchical clustering\n",
    "from scipy.cluster.hierarchy import linkage\n",
    "from scipy.cluster.hierarchy import dendrogram\n",
    "from scipy.cluster.hierarchy import cut_tree"
   ]
  },
  {
   "cell_type": "code",
   "execution_count": 48,
   "metadata": {},
   "outputs": [
    {
     "data": {
      "image/png": "[encoded data removed]",
      "text/plain": [
       "<Figure size 432x288 with 1 Axes>"
      ]
     },
     "metadata": {
      "needs_background": "light"
     },
     "output_type": "display_data"
    }
   ],
   "source": [
    "# heirarchical clustering\n",
    "mergings = linkage(pca_df, method = \"single\", metric='euclidean')\n",
    "dendrogram(mergings)\n",
    "plt.show()"
   ]
  },
  {
   "cell_type": "code",
   "execution_count": 49,
   "metadata": {},
   "outputs": [
    {
     "data": {
      "image/png": "[encoded data removed]",
      "text/plain": [
       "<Figure size 432x288 with 1 Axes>"
      ]
     },
     "metadata": {
      "needs_background": "light"
     },
     "output_type": "display_data"
    }
   ],
   "source": [
    "# heirarchical clustering using linkage - average\n",
    "mergings = linkage(pca_df, method = \"average\", metric='euclidean')\n",
    "dendrogram(mergings)\n",
    "plt.show()"
   ]
  },
  {
   "cell_type": "code",
   "execution_count": 50,
   "metadata": {},
   "outputs": [
    {
     "data": {
      "image/png": "[encoded data removed]",
      "text/plain": [
       "<Figure size 432x288 with 1 Axes>"
      ]
     },
     "metadata": {
      "needs_background": "light"
     },
     "output_type": "display_data"
    }
   ],
   "source": [
    "# heirarchical clustering using linkage - complete\n",
    "mergings = linkage(pca_df, method = \"complete\", metric='euclidean')\n",
    "dendrogram(mergings)\n",
    "plt.show()"
   ]
  },
  {
   "cell_type": "code",
   "execution_count": 51,
   "metadata": {},
   "outputs": [],
   "source": [
    "clusterCut = pd.Series(cut_tree(mergings, n_clusters = 5).reshape(-1,))\n",
    "clusterCut.shape\n",
    "clusterCut_df = pd.DataFrame(clusterCut)"
   ]
  },
  {
   "cell_type": "code",
   "execution_count": 52,
   "metadata": {},
   "outputs": [
    {
     "data": {
      "text/plain": [
       "(167, 2)"
      ]
     },
     "execution_count": 52,
     "metadata": {},
     "output_type": "execute_result"
    }
   ],
   "source": [
    "clusterCut_df = clusterCut_df.reset_index()\n",
    "clusterCut_df.shape"
   ]
  },
  {
   "cell_type": "code",
   "execution_count": 53,
   "metadata": {},
   "outputs": [
    {
     "data": {
      "text/plain": [
       "(148, 7)"
      ]
     },
     "execution_count": 53,
     "metadata": {},
     "output_type": "execute_result"
    }
   ],
   "source": [
    "outliers_df = pca_df1.reset_index()\n",
    "outliers_df.shape"
   ]
  },
  {
   "cell_type": "code",
   "execution_count": 54,
   "metadata": {},
   "outputs": [
    {
     "data": {
      "text/html": [
       "<div>\n",
       "<style scoped>\n",
       "    .dataframe tbody tr th:only-of-type {\n",
       "        vertical-align: middle;\n",
       "    }\n",
       "\n",
       "    .dataframe tbody tr th {\n",
       "        vertical-align: top;\n",
       "    }\n",
       "\n",
       "    .dataframe thead th {\n",
       "        text-align: right;\n",
       "    }\n",
       "</style>\n",
       "<table border=\"1\" class=\"dataframe\">\n",
       "  <thead>\n",
       "    <tr style=\"text-align: right;\">\n",
       "      <th></th>\n",
       "      <th>Pca1</th>\n",
       "      <th>Pca2</th>\n",
       "      <th>Pca3</th>\n",
       "      <th>Pca4</th>\n",
       "      <th>Pca5</th>\n",
       "      <th>country</th>\n",
       "      <th>0</th>\n",
       "    </tr>\n",
       "  </thead>\n",
       "  <tbody>\n",
       "    <tr>\n",
       "      <th>0</th>\n",
       "      <td>0.599157</td>\n",
       "      <td>0.095999</td>\n",
       "      <td>0.157120</td>\n",
       "      <td>0.024626</td>\n",
       "      <td>0.042488</td>\n",
       "      <td>Afghanistan</td>\n",
       "      <td>0</td>\n",
       "    </tr>\n",
       "    <tr>\n",
       "      <th>1</th>\n",
       "      <td>-0.158795</td>\n",
       "      <td>-0.212766</td>\n",
       "      <td>-0.063291</td>\n",
       "      <td>0.060882</td>\n",
       "      <td>-0.016877</td>\n",
       "      <td>Albania</td>\n",
       "      <td>1</td>\n",
       "    </tr>\n",
       "    <tr>\n",
       "      <th>2</th>\n",
       "      <td>-0.003366</td>\n",
       "      <td>-0.135897</td>\n",
       "      <td>-0.133534</td>\n",
       "      <td>-0.133512</td>\n",
       "      <td>0.091981</td>\n",
       "      <td>Algeria</td>\n",
       "      <td>1</td>\n",
       "    </tr>\n",
       "    <tr>\n",
       "      <th>3</th>\n",
       "      <td>0.650567</td>\n",
       "      <td>0.276103</td>\n",
       "      <td>-0.143532</td>\n",
       "      <td>-0.155463</td>\n",
       "      <td>0.083456</td>\n",
       "      <td>Angola</td>\n",
       "      <td>0</td>\n",
       "    </tr>\n",
       "    <tr>\n",
       "      <th>4</th>\n",
       "      <td>-0.200295</td>\n",
       "      <td>-0.065214</td>\n",
       "      <td>-0.100209</td>\n",
       "      <td>0.037578</td>\n",
       "      <td>0.030166</td>\n",
       "      <td>Antigua and Barbuda</td>\n",
       "      <td>1</td>\n",
       "    </tr>\n",
       "  </tbody>\n",
       "</table>\n",
       "</div>"
      ],
      "text/plain": [
       "       Pca1      Pca2      Pca3      Pca4      Pca5              country  0\n",
       "0  0.599157  0.095999  0.157120  0.024626  0.042488          Afghanistan  0\n",
       "1 -0.158795 -0.212766 -0.063291  0.060882 -0.016877              Albania  1\n",
       "2 -0.003366 -0.135897 -0.133534 -0.133512  0.091981              Algeria  1\n",
       "3  0.650567  0.276103 -0.143532 -0.155463  0.083456               Angola  0\n",
       "4 -0.200295 -0.065214 -0.100209  0.037578  0.030166  Antigua and Barbuda  1"
      ]
     },
     "execution_count": 54,
     "metadata": {},
     "output_type": "execute_result"
    }
   ],
   "source": [
    "country_hc = pd.concat([outliers_df, clusterCut_df], axis=1)\n",
    "country_hc = country_hc.drop('index', 1)\n",
    "country_hc.head()"
   ]
  },
  {
   "cell_type": "code",
   "execution_count": 55,
   "metadata": {},
   "outputs": [
    {
     "data": {
      "text/html": [
       "<div>\n",
       "<style scoped>\n",
       "    .dataframe tbody tr th:only-of-type {\n",
       "        vertical-align: middle;\n",
       "    }\n",
       "\n",
       "    .dataframe tbody tr th {\n",
       "        vertical-align: top;\n",
       "    }\n",
       "\n",
       "    .dataframe thead th {\n",
       "        text-align: right;\n",
       "    }\n",
       "</style>\n",
       "<table border=\"1\" class=\"dataframe\">\n",
       "  <thead>\n",
       "    <tr style=\"text-align: right;\">\n",
       "      <th></th>\n",
       "      <th>Pca1</th>\n",
       "      <th>Pca2</th>\n",
       "      <th>Pca3</th>\n",
       "      <th>Pca4</th>\n",
       "      <th>Pca5</th>\n",
       "      <th>country</th>\n",
       "      <th>ClusterID</th>\n",
       "    </tr>\n",
       "  </thead>\n",
       "  <tbody>\n",
       "    <tr>\n",
       "      <th>0</th>\n",
       "      <td>0.599157</td>\n",
       "      <td>0.095999</td>\n",
       "      <td>0.157120</td>\n",
       "      <td>0.024626</td>\n",
       "      <td>0.042488</td>\n",
       "      <td>Afghanistan</td>\n",
       "      <td>0</td>\n",
       "    </tr>\n",
       "    <tr>\n",
       "      <th>1</th>\n",
       "      <td>-0.158795</td>\n",
       "      <td>-0.212766</td>\n",
       "      <td>-0.063291</td>\n",
       "      <td>0.060882</td>\n",
       "      <td>-0.016877</td>\n",
       "      <td>Albania</td>\n",
       "      <td>1</td>\n",
       "    </tr>\n",
       "    <tr>\n",
       "      <th>2</th>\n",
       "      <td>-0.003366</td>\n",
       "      <td>-0.135897</td>\n",
       "      <td>-0.133534</td>\n",
       "      <td>-0.133512</td>\n",
       "      <td>0.091981</td>\n",
       "      <td>Algeria</td>\n",
       "      <td>1</td>\n",
       "    </tr>\n",
       "    <tr>\n",
       "      <th>3</th>\n",
       "      <td>0.650567</td>\n",
       "      <td>0.276103</td>\n",
       "      <td>-0.143532</td>\n",
       "      <td>-0.155463</td>\n",
       "      <td>0.083456</td>\n",
       "      <td>Angola</td>\n",
       "      <td>0</td>\n",
       "    </tr>\n",
       "    <tr>\n",
       "      <th>4</th>\n",
       "      <td>-0.200295</td>\n",
       "      <td>-0.065214</td>\n",
       "      <td>-0.100209</td>\n",
       "      <td>0.037578</td>\n",
       "      <td>0.030166</td>\n",
       "      <td>Antigua and Barbuda</td>\n",
       "      <td>1</td>\n",
       "    </tr>\n",
       "  </tbody>\n",
       "</table>\n",
       "</div>"
      ],
      "text/plain": [
       "       Pca1      Pca2      Pca3      Pca4      Pca5              country  \\\n",
       "0  0.599157  0.095999  0.157120  0.024626  0.042488          Afghanistan   \n",
       "1 -0.158795 -0.212766 -0.063291  0.060882 -0.016877              Albania   \n",
       "2 -0.003366 -0.135897 -0.133534 -0.133512  0.091981              Algeria   \n",
       "3  0.650567  0.276103 -0.143532 -0.155463  0.083456               Angola   \n",
       "4 -0.200295 -0.065214 -0.100209  0.037578  0.030166  Antigua and Barbuda   \n",
       "\n",
       "   ClusterID  \n",
       "0          0  \n",
       "1          1  \n",
       "2          1  \n",
       "3          0  \n",
       "4          1  "
      ]
     },
     "execution_count": 55,
     "metadata": {},
     "output_type": "execute_result"
    }
   ],
   "source": [
    "\n",
    "country_hc.columns = [ \"Pca1\", \"Pca2\", \"Pca3\",\"Pca4\",\"Pca5\",\"country\",\"ClusterID\"]\n",
    "country_hc.head()"
   ]
  },
  {
   "cell_type": "code",
   "execution_count": 56,
   "metadata": {},
   "outputs": [
    {
     "data": {
      "text/html": [
       "<div>\n",
       "<style scoped>\n",
       "    .dataframe tbody tr th:only-of-type {\n",
       "        vertical-align: middle;\n",
       "    }\n",
       "\n",
       "    .dataframe tbody tr th {\n",
       "        vertical-align: top;\n",
       "    }\n",
       "\n",
       "    .dataframe thead th {\n",
       "        text-align: right;\n",
       "    }\n",
       "</style>\n",
       "<table border=\"1\" class=\"dataframe\">\n",
       "  <thead>\n",
       "    <tr style=\"text-align: right;\">\n",
       "      <th></th>\n",
       "      <th>Pca1</th>\n",
       "      <th>Pca2</th>\n",
       "      <th>Pca3</th>\n",
       "      <th>Pca4</th>\n",
       "      <th>Pca5</th>\n",
       "      <th>country</th>\n",
       "      <th>ClusterID</th>\n",
       "      <th>child_mort</th>\n",
       "      <th>exports</th>\n",
       "      <th>health</th>\n",
       "      <th>imports</th>\n",
       "      <th>income</th>\n",
       "      <th>inflation</th>\n",
       "      <th>life_expec</th>\n",
       "      <th>total_fer</th>\n",
       "      <th>gdpp</th>\n",
       "    </tr>\n",
       "  </thead>\n",
       "  <tbody>\n",
       "    <tr>\n",
       "      <th>0</th>\n",
       "      <td>0.599157</td>\n",
       "      <td>0.095999</td>\n",
       "      <td>0.157120</td>\n",
       "      <td>0.024626</td>\n",
       "      <td>0.042488</td>\n",
       "      <td>Afghanistan</td>\n",
       "      <td>0</td>\n",
       "      <td>0.427184</td>\n",
       "      <td>0.049482</td>\n",
       "      <td>0.358608</td>\n",
       "      <td>0.257765</td>\n",
       "      <td>0.008047</td>\n",
       "      <td>0.126144</td>\n",
       "      <td>0.475345</td>\n",
       "      <td>0.736593</td>\n",
       "      <td>0.003073</td>\n",
       "    </tr>\n",
       "    <tr>\n",
       "      <th>1</th>\n",
       "      <td>-0.158795</td>\n",
       "      <td>-0.212766</td>\n",
       "      <td>-0.063291</td>\n",
       "      <td>0.060882</td>\n",
       "      <td>-0.016877</td>\n",
       "      <td>Albania</td>\n",
       "      <td>1</td>\n",
       "      <td>0.067961</td>\n",
       "      <td>0.139531</td>\n",
       "      <td>0.294593</td>\n",
       "      <td>0.279037</td>\n",
       "      <td>0.074933</td>\n",
       "      <td>0.080399</td>\n",
       "      <td>0.871795</td>\n",
       "      <td>0.078864</td>\n",
       "      <td>0.036833</td>\n",
       "    </tr>\n",
       "    <tr>\n",
       "      <th>2</th>\n",
       "      <td>-0.003366</td>\n",
       "      <td>-0.135897</td>\n",
       "      <td>-0.133534</td>\n",
       "      <td>-0.133512</td>\n",
       "      <td>0.091981</td>\n",
       "      <td>Algeria</td>\n",
       "      <td>1</td>\n",
       "      <td>0.121359</td>\n",
       "      <td>0.191559</td>\n",
       "      <td>0.146675</td>\n",
       "      <td>0.180149</td>\n",
       "      <td>0.098809</td>\n",
       "      <td>0.187691</td>\n",
       "      <td>0.875740</td>\n",
       "      <td>0.274448</td>\n",
       "      <td>0.040365</td>\n",
       "    </tr>\n",
       "    <tr>\n",
       "      <th>3</th>\n",
       "      <td>0.650567</td>\n",
       "      <td>0.276103</td>\n",
       "      <td>-0.143532</td>\n",
       "      <td>-0.155463</td>\n",
       "      <td>0.083456</td>\n",
       "      <td>Angola</td>\n",
       "      <td>0</td>\n",
       "      <td>0.567961</td>\n",
       "      <td>0.311125</td>\n",
       "      <td>0.064636</td>\n",
       "      <td>0.246266</td>\n",
       "      <td>0.042535</td>\n",
       "      <td>0.245911</td>\n",
       "      <td>0.552268</td>\n",
       "      <td>0.790221</td>\n",
       "      <td>0.031488</td>\n",
       "    </tr>\n",
       "    <tr>\n",
       "      <th>4</th>\n",
       "      <td>-0.200295</td>\n",
       "      <td>-0.065214</td>\n",
       "      <td>-0.100209</td>\n",
       "      <td>0.037578</td>\n",
       "      <td>0.030166</td>\n",
       "      <td>Antigua and Barbuda</td>\n",
       "      <td>1</td>\n",
       "      <td>0.038835</td>\n",
       "      <td>0.227079</td>\n",
       "      <td>0.262275</td>\n",
       "      <td>0.338255</td>\n",
       "      <td>0.148652</td>\n",
       "      <td>0.052213</td>\n",
       "      <td>0.881657</td>\n",
       "      <td>0.154574</td>\n",
       "      <td>0.114242</td>\n",
       "    </tr>\n",
       "  </tbody>\n",
       "</table>\n",
       "</div>"
      ],
      "text/plain": [
       "       Pca1      Pca2      Pca3      Pca4      Pca5              country  \\\n",
       "0  0.599157  0.095999  0.157120  0.024626  0.042488          Afghanistan   \n",
       "1 -0.158795 -0.212766 -0.063291  0.060882 -0.016877              Albania   \n",
       "2 -0.003366 -0.135897 -0.133534 -0.133512  0.091981              Algeria   \n",
       "3  0.650567  0.276103 -0.143532 -0.155463  0.083456               Angola   \n",
       "4 -0.200295 -0.065214 -0.100209  0.037578  0.030166  Antigua and Barbuda   \n",
       "\n",
       "   ClusterID  child_mort   exports    health   imports    income  inflation  \\\n",
       "0          0    0.427184  0.049482  0.358608  0.257765  0.008047   0.126144   \n",
       "1          1    0.067961  0.139531  0.294593  0.279037  0.074933   0.080399   \n",
       "2          1    0.121359  0.191559  0.146675  0.180149  0.098809   0.187691   \n",
       "3          0    0.567961  0.311125  0.064636  0.246266  0.042535   0.245911   \n",
       "4          1    0.038835  0.227079  0.262275  0.338255  0.148652   0.052213   \n",
       "\n",
       "   life_expec  total_fer      gdpp  \n",
       "0    0.475345   0.736593  0.003073  \n",
       "1    0.871795   0.078864  0.036833  \n",
       "2    0.875740   0.274448  0.040365  \n",
       "3    0.552268   0.790221  0.031488  \n",
       "4    0.881657   0.154574  0.114242  "
      ]
     },
     "execution_count": 56,
     "metadata": {},
     "output_type": "execute_result"
    }
   ],
   "source": [
    "df_country_clusterid3 = pd.merge(country_hc,df_new,on='country',how='inner')\n",
    "df_country_clusterid3.head()"
   ]
  },
  {
   "cell_type": "code",
   "execution_count": 57,
   "metadata": {},
   "outputs": [],
   "source": [
    "km_clusters_pca1 = pd.DataFrame(pca_df1_km.groupby([\"ClusterID\"]).Pca1.mean())\n",
    "km_clusters_pca2 = \tpd.DataFrame(pca_df1_km.groupby([\"ClusterID\"]).Pca2.mean())\n",
    "km_clusters_pca3 = \tpd.DataFrame(pca_df1_km.groupby([\"ClusterID\"]).Pca3.mean())\n",
    "km_clusters_pca4 = \tpd.DataFrame(pca_df1_km.groupby([\"ClusterID\"]).Pca4.mean())\n",
    "km_clusters_pca5 = \tpd.DataFrame(pca_df1_km.groupby([\"ClusterID\"]).Pca5.mean())"
   ]
  },
  {
   "cell_type": "code",
   "execution_count": 58,
   "metadata": {},
   "outputs": [],
   "source": [
    "km_clusters_child_mort = pd.DataFrame(pca_df1_km.groupby([\"ClusterID\"]).child_mort.mean())\n",
    "km_clusters_exports = \tpd.DataFrame(pca_df1_km.groupby([\"ClusterID\"]).exports.mean())\n",
    "km_clusters_health = \tpd.DataFrame(pca_df1_km.groupby([\"ClusterID\"]).health.mean())\n",
    "km_clusters_imports = \tpd.DataFrame(pca_df1_km.groupby([\"ClusterID\"]).imports.mean())\n",
    "km_clusters_income = \tpd.DataFrame(pca_df1_km.groupby([\"ClusterID\"]).income.mean())\n",
    "km_clusters_inflation = \tpd.DataFrame(pca_df1_km.groupby([\"ClusterID\"]).inflation.mean())\n",
    "km_clusters_life_expec = \tpd.DataFrame(pca_df1_km.groupby([\"ClusterID\"]).life_expec.mean())\n",
    "km_clusters_total_fer = \tpd.DataFrame(pca_df1_km.groupby([\"ClusterID\"]).total_fer.mean())\n",
    "km_clusters_gdpp = \tpd.DataFrame(pca_df1_km.groupby([\"ClusterID\"]).gdpp.mean())"
   ]
  },
  {
   "cell_type": "code",
   "execution_count": 59,
   "metadata": {},
   "outputs": [
    {
     "data": {
      "text/html": [
       "<div>\n",
       "<style scoped>\n",
       "    .dataframe tbody tr th:only-of-type {\n",
       "        vertical-align: middle;\n",
       "    }\n",
       "\n",
       "    .dataframe tbody tr th {\n",
       "        vertical-align: top;\n",
       "    }\n",
       "\n",
       "    .dataframe thead th {\n",
       "        text-align: right;\n",
       "    }\n",
       "</style>\n",
       "<table border=\"1\" class=\"dataframe\">\n",
       "  <thead>\n",
       "    <tr style=\"text-align: right;\">\n",
       "      <th></th>\n",
       "      <th>ClusterID</th>\n",
       "      <th>Pca1_mean</th>\n",
       "      <th>Pca2_mean</th>\n",
       "      <th>Pca3_mean</th>\n",
       "      <th>Pca4_mean</th>\n",
       "      <th>Pca5_mean</th>\n",
       "      <th>child_mort</th>\n",
       "      <th>exports</th>\n",
       "      <th>health</th>\n",
       "      <th>imports</th>\n",
       "      <th>income</th>\n",
       "      <th>inflation</th>\n",
       "      <th>life_expec</th>\n",
       "      <th>total_fer</th>\n",
       "      <th>gdpp</th>\n",
       "    </tr>\n",
       "  </thead>\n",
       "  <tbody>\n",
       "    <tr>\n",
       "      <th>0</th>\n",
       "      <td>0</td>\n",
       "      <td>0.608645</td>\n",
       "      <td>0.140555</td>\n",
       "      <td>0.100048</td>\n",
       "      <td>0.001034</td>\n",
       "      <td>0.017927</td>\n",
       "      <td>0.507061</td>\n",
       "      <td>0.134101</td>\n",
       "      <td>0.311995</td>\n",
       "      <td>0.239158</td>\n",
       "      <td>0.009109</td>\n",
       "      <td>0.120420</td>\n",
       "      <td>0.504483</td>\n",
       "      <td>0.722397</td>\n",
       "      <td>0.005201</td>\n",
       "    </tr>\n",
       "    <tr>\n",
       "      <th>1</th>\n",
       "      <td>1</td>\n",
       "      <td>-0.031885</td>\n",
       "      <td>-0.146071</td>\n",
       "      <td>-0.083261</td>\n",
       "      <td>-0.050770</td>\n",
       "      <td>-0.000367</td>\n",
       "      <td>0.111989</td>\n",
       "      <td>0.166415</td>\n",
       "      <td>0.219232</td>\n",
       "      <td>0.209671</td>\n",
       "      <td>0.094747</td>\n",
       "      <td>0.137092</td>\n",
       "      <td>0.795789</td>\n",
       "      <td>0.201379</td>\n",
       "      <td>0.054760</td>\n",
       "    </tr>\n",
       "    <tr>\n",
       "      <th>2</th>\n",
       "      <td>2</td>\n",
       "      <td>-0.459141</td>\n",
       "      <td>0.074195</td>\n",
       "      <td>0.239687</td>\n",
       "      <td>-0.064158</td>\n",
       "      <td>-0.001389</td>\n",
       "      <td>0.008605</td>\n",
       "      <td>0.209660</td>\n",
       "      <td>0.520058</td>\n",
       "      <td>0.225386</td>\n",
       "      <td>0.315465</td>\n",
       "      <td>0.051290</td>\n",
       "      <td>0.964318</td>\n",
       "      <td>0.103384</td>\n",
       "      <td>0.430001</td>\n",
       "    </tr>\n",
       "    <tr>\n",
       "      <th>3</th>\n",
       "      <td>3</td>\n",
       "      <td>0.282367</td>\n",
       "      <td>0.004178</td>\n",
       "      <td>-0.048755</td>\n",
       "      <td>0.007949</td>\n",
       "      <td>0.022125</td>\n",
       "      <td>0.274175</td>\n",
       "      <td>0.174508</td>\n",
       "      <td>0.234580</td>\n",
       "      <td>0.272690</td>\n",
       "      <td>0.032589</td>\n",
       "      <td>0.127086</td>\n",
       "      <td>0.634477</td>\n",
       "      <td>0.459495</td>\n",
       "      <td>0.018927</td>\n",
       "    </tr>\n",
       "    <tr>\n",
       "      <th>4</th>\n",
       "      <td>4</td>\n",
       "      <td>-0.245679</td>\n",
       "      <td>-0.064738</td>\n",
       "      <td>-0.076837</td>\n",
       "      <td>0.091786</td>\n",
       "      <td>-0.000448</td>\n",
       "      <td>0.036677</td>\n",
       "      <td>0.270894</td>\n",
       "      <td>0.331866</td>\n",
       "      <td>0.337936</td>\n",
       "      <td>0.149856</td>\n",
       "      <td>0.072704</td>\n",
       "      <td>0.862755</td>\n",
       "      <td>0.088328</td>\n",
       "      <td>0.111636</td>\n",
       "    </tr>\n",
       "  </tbody>\n",
       "</table>\n",
       "</div>"
      ],
      "text/plain": [
       "   ClusterID  Pca1_mean  Pca2_mean  Pca3_mean  Pca4_mean  Pca5_mean  \\\n",
       "0          0   0.608645   0.140555   0.100048   0.001034   0.017927   \n",
       "1          1  -0.031885  -0.146071  -0.083261  -0.050770  -0.000367   \n",
       "2          2  -0.459141   0.074195   0.239687  -0.064158  -0.001389   \n",
       "3          3   0.282367   0.004178  -0.048755   0.007949   0.022125   \n",
       "4          4  -0.245679  -0.064738  -0.076837   0.091786  -0.000448   \n",
       "\n",
       "   child_mort   exports    health   imports    income  inflation  life_expec  \\\n",
       "0    0.507061  0.134101  0.311995  0.239158  0.009109   0.120420    0.504483   \n",
       "1    0.111989  0.166415  0.219232  0.209671  0.094747   0.137092    0.795789   \n",
       "2    0.008605  0.209660  0.520058  0.225386  0.315465   0.051290    0.964318   \n",
       "3    0.274175  0.174508  0.234580  0.272690  0.032589   0.127086    0.634477   \n",
       "4    0.036677  0.270894  0.331866  0.337936  0.149856   0.072704    0.862755   \n",
       "\n",
       "   total_fer      gdpp  \n",
       "0   0.722397  0.005201  \n",
       "1   0.201379  0.054760  \n",
       "2   0.103384  0.430001  \n",
       "3   0.459495  0.018927  \n",
       "4   0.088328  0.111636  "
      ]
     },
     "execution_count": 59,
     "metadata": {},
     "output_type": "execute_result"
    }
   ],
   "source": [
    "df1 = pd.concat([pd.Series([0,1,2,3,4]), km_clusters_pca1, km_clusters_pca2, km_clusters_pca3,km_clusters_pca4,km_clusters_pca5,\n",
    "                km_clusters_child_mort,km_clusters_exports,km_clusters_health,km_clusters_imports,km_clusters_income\n",
    "                ,km_clusters_inflation,km_clusters_life_expec,km_clusters_total_fer,km_clusters_gdpp], axis=1)\n",
    "df1.columns = [\"ClusterID\",\"Pca1_mean\", \"Pca2_mean\", \"Pca3_mean\",\"Pca4_mean\",\"Pca5_mean\",\n",
    "              'child_mort', 'exports', 'health', 'imports', 'income','inflation', 'life_expec', 'total_fer', 'gdpp']\n",
    "df1"
   ]
  },
  {
   "cell_type": "code",
   "execution_count": 60,
   "metadata": {},
   "outputs": [
    {
     "data": {
      "text/plain": [
       "<matplotlib.axes._subplots.AxesSubplot at 0x1698c186dd8>"
      ]
     },
     "execution_count": 60,
     "metadata": {},
     "output_type": "execute_result"
    },
    {
     "data": {
      "image/png": "[encoded data removed]",
      "text/plain": [
       "<Figure size 1440x1800 with 9 Axes>"
      ]
     },
     "metadata": {
      "needs_background": "light"
     },
     "output_type": "display_data"
    }
   ],
   "source": [
    "# Making the Subplots of variables_mean CLusters\n",
    "\n",
    "plt.figure(figsize=(20,25))\n",
    "plt.subplot(5,2,1)\n",
    "plt.tight_layout()\n",
    "sns.barplot(x=df1.ClusterID, y=df1.child_mort)\n",
    "plt.subplot(5,2,2)\n",
    "plt.tight_layout()\n",
    "sns.barplot(x=df1.ClusterID, y=df1.exports)\n",
    "plt.subplot(5,2,3)\n",
    "plt.tight_layout()\n",
    "sns.barplot(x=df1.ClusterID, y=df1.health)\n",
    "plt.subplot(5,2,4)\n",
    "plt.tight_layout()\n",
    "sns.barplot(x=df1.ClusterID, y=df1.imports)\n",
    "plt.subplot(5,2,5)\n",
    "plt.tight_layout()\n",
    "sns.barplot(x=df1.ClusterID, y=df1.income)\n",
    "plt.subplot(5,2,6)\n",
    "plt.tight_layout()\n",
    "sns.barplot(x=df1.ClusterID, y=df1.inflation)\n",
    "plt.subplot(5,2,7)\n",
    "plt.tight_layout()\n",
    "sns.barplot(x=df1.ClusterID, y=df1.life_expec)\n",
    "plt.subplot(5,2,8)\n",
    "plt.tight_layout()\n",
    "sns.barplot(x=df1.ClusterID, y=df1.total_fer)\n",
    "plt.subplot(5,2,9)\n",
    "plt.tight_layout()\n",
    "sns.barplot(x=df1.ClusterID, y=df1.gdpp)\n"
   ]
  },
  {
   "cell_type": "code",
   "execution_count": 61,
   "metadata": {},
   "outputs": [
    {
     "data": {
      "text/plain": [
       "<matplotlib.axes._subplots.AxesSubplot at 0x1698a7f40b8>"
      ]
     },
     "execution_count": 61,
     "metadata": {},
     "output_type": "execute_result"
    },
    {
     "data": {
      "image/png": "[encoded data removed]",
      "text/plain": [
       "<Figure size 1440x1800 with 5 Axes>"
      ]
     },
     "metadata": {
      "needs_background": "light"
     },
     "output_type": "display_data"
    }
   ],
   "source": [
    "# Making the Subplots of PCA_means Clusters\n",
    "\n",
    "plt.figure(figsize=(20,25))\n",
    "plt.subplot(5,2,1)\n",
    "plt.tight_layout()\n",
    "sns.barplot(x=df1.ClusterID, y=df1.Pca1_mean)\n",
    "plt.subplot(5,2,2)\n",
    "plt.tight_layout()\n",
    "sns.barplot(x=df1.ClusterID, y=df1.Pca2_mean)\n",
    "plt.subplot(5,2,3)\n",
    "plt.tight_layout()\n",
    "sns.barplot(x=df1.ClusterID, y=df1.Pca3_mean)\n",
    "plt.subplot(5,2,4)\n",
    "plt.tight_layout()\n",
    "sns.barplot(x=df1.ClusterID, y=df1.Pca4_mean)\n",
    "plt.subplot(5,2,5)\n",
    "plt.tight_layout()\n",
    "sns.barplot(x=df1.ClusterID, y=df1.Pca5_mean)\n"
   ]
  },
  {
   "cell_type": "code",
   "execution_count": 63,
   "metadata": {},
   "outputs": [
    {
     "data": {
      "text/html": [
       "<div>\n",
       "<style scoped>\n",
       "    .dataframe tbody tr th:only-of-type {\n",
       "        vertical-align: middle;\n",
       "    }\n",
       "\n",
       "    .dataframe tbody tr th {\n",
       "        vertical-align: top;\n",
       "    }\n",
       "\n",
       "    .dataframe thead th {\n",
       "        text-align: right;\n",
       "    }\n",
       "</style>\n",
       "<table border=\"1\" class=\"dataframe\">\n",
       "  <thead>\n",
       "    <tr style=\"text-align: right;\">\n",
       "      <th></th>\n",
       "      <th>country</th>\n",
       "    </tr>\n",
       "  </thead>\n",
       "  <tbody>\n",
       "    <tr>\n",
       "      <th>0</th>\n",
       "      <td>Afghanistan</td>\n",
       "    </tr>\n",
       "    <tr>\n",
       "      <th>3</th>\n",
       "      <td>Angola</td>\n",
       "    </tr>\n",
       "    <tr>\n",
       "      <th>17</th>\n",
       "      <td>Benin</td>\n",
       "    </tr>\n",
       "    <tr>\n",
       "      <th>24</th>\n",
       "      <td>Burkina Faso</td>\n",
       "    </tr>\n",
       "    <tr>\n",
       "      <th>25</th>\n",
       "      <td>Burundi</td>\n",
       "    </tr>\n",
       "    <tr>\n",
       "      <th>27</th>\n",
       "      <td>Cameroon</td>\n",
       "    </tr>\n",
       "    <tr>\n",
       "      <th>30</th>\n",
       "      <td>Chad</td>\n",
       "    </tr>\n",
       "    <tr>\n",
       "      <th>35</th>\n",
       "      <td>Congo, Dem. Rep.</td>\n",
       "    </tr>\n",
       "    <tr>\n",
       "      <th>38</th>\n",
       "      <td>Cote d'Ivoire</td>\n",
       "    </tr>\n",
       "    <tr>\n",
       "      <th>53</th>\n",
       "      <td>Gambia</td>\n",
       "    </tr>\n",
       "    <tr>\n",
       "      <th>60</th>\n",
       "      <td>Guinea</td>\n",
       "    </tr>\n",
       "    <tr>\n",
       "      <th>61</th>\n",
       "      <td>Guinea-Bissau</td>\n",
       "    </tr>\n",
       "    <tr>\n",
       "      <th>81</th>\n",
       "      <td>Liberia</td>\n",
       "    </tr>\n",
       "    <tr>\n",
       "      <th>86</th>\n",
       "      <td>Malawi</td>\n",
       "    </tr>\n",
       "    <tr>\n",
       "      <th>89</th>\n",
       "      <td>Mali</td>\n",
       "    </tr>\n",
       "    <tr>\n",
       "      <th>95</th>\n",
       "      <td>Mozambique</td>\n",
       "    </tr>\n",
       "    <tr>\n",
       "      <th>100</th>\n",
       "      <td>Niger</td>\n",
       "    </tr>\n",
       "    <tr>\n",
       "      <th>117</th>\n",
       "      <td>Sierra Leone</td>\n",
       "    </tr>\n",
       "    <tr>\n",
       "      <th>130</th>\n",
       "      <td>Tanzania</td>\n",
       "    </tr>\n",
       "    <tr>\n",
       "      <th>132</th>\n",
       "      <td>Togo</td>\n",
       "    </tr>\n",
       "    <tr>\n",
       "      <th>137</th>\n",
       "      <td>Uganda</td>\n",
       "    </tr>\n",
       "    <tr>\n",
       "      <th>147</th>\n",
       "      <td>Zambia</td>\n",
       "    </tr>\n",
       "  </tbody>\n",
       "</table>\n",
       "</div>"
      ],
      "text/plain": [
       "              country\n",
       "0         Afghanistan\n",
       "3              Angola\n",
       "17              Benin\n",
       "24       Burkina Faso\n",
       "25            Burundi\n",
       "27           Cameroon\n",
       "30               Chad\n",
       "35   Congo, Dem. Rep.\n",
       "38      Cote d'Ivoire\n",
       "53             Gambia\n",
       "60             Guinea\n",
       "61      Guinea-Bissau\n",
       "81            Liberia\n",
       "86             Malawi\n",
       "89               Mali\n",
       "95         Mozambique\n",
       "100             Niger\n",
       "117      Sierra Leone\n",
       "130          Tanzania\n",
       "132              Togo\n",
       "137            Uganda\n",
       "147            Zambia"
      ]
     },
     "execution_count": 63,
     "metadata": {},
     "output_type": "execute_result"
    }
   ],
   "source": [
    "final=pca_df1_km[pca_df1_km['ClusterID']==0]\n",
    "final_country = pd.DataFrame(final.country)\n",
    "final_country"
   ]
  },
  {
   "cell_type": "raw",
   "metadata": {},
   "source": [
    "Final countries are cluster==0 \n",
    "Because it has low income, low GDPP , high child_mort"
   ]
  }
 ],
 "metadata": {
  "kernelspec": {
   "display_name": "Python 3",
   "language": "python",
   "name": "python3"
  },
  "language_info": {
   "codemirror_mode": {
    "name": "ipython",
    "version": 3
   },
   "file_extension": ".py",
   "mimetype": "text/x-python",
   "name": "python",
   "nbconvert_exporter": "python",
   "pygments_lexer": "ipython3",
   "version": "3.7.1"
  }
 },
 "nbformat": 4,
 "nbformat_minor": 2
}
